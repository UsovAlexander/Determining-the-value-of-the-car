{
  "cells": [
    {
      "cell_type": "markdown",
      "metadata": {
        "id": "hIkLxkPm_Pxi"
      },
      "source": [
        "# Determining the value of the car"
      ]
    },
    {
      "cell_type": "markdown",
      "metadata": {
        "id": "Zf7gsKw5_Pxj"
      },
      "source": [
        "A used car sales service is developing an application to attract new customers. The application allows users to quickly determine the market value of their car. We have historical data at our disposal, including technical specifications, configurations, and prices of cars. Our task is to build a model to estimate the car's value.\n",
        "\n",
        "The client has the following priorities:\n",
        "\n",
        "Prediction accuracy\n",
        "Prediction speed\n",
        "Training time."
      ]
    },
    {
      "cell_type": "markdown",
      "metadata": {
        "id": "T4z2y76D_Pxj"
      },
      "source": [
        "## Data preparation"
      ]
    },
    {
      "cell_type": "markdown",
      "metadata": {
        "id": "ihz3J1xb_Pxj"
      },
      "source": [
        "### Upload libraries"
      ]
    },
    {
      "cell_type": "code",
      "execution_count": 1,
      "metadata": {
        "colab": {
          "base_uri": "https://localhost:8080/"
        },
        "id": "0C05rV8w_Pxr",
        "outputId": "64a455d0-5153-496f-e2eb-5da4feca8f09"
      },
      "outputs": [
        {
          "output_type": "stream",
          "name": "stdout",
          "text": [
            "Looking in indexes: https://pypi.org/simple, https://us-python.pkg.dev/colab-wheels/public/simple/\n",
            "Requirement already satisfied: scikit-learn in /usr/local/lib/python3.10/dist-packages (1.2.2)\n",
            "Requirement already satisfied: numpy>=1.17.3 in /usr/local/lib/python3.10/dist-packages (from scikit-learn) (1.22.4)\n",
            "Requirement already satisfied: scipy>=1.3.2 in /usr/local/lib/python3.10/dist-packages (from scikit-learn) (1.10.1)\n",
            "Requirement already satisfied: joblib>=1.1.1 in /usr/local/lib/python3.10/dist-packages (from scikit-learn) (1.2.0)\n",
            "Requirement already satisfied: threadpoolctl>=2.0.0 in /usr/local/lib/python3.10/dist-packages (from scikit-learn) (3.1.0)\n"
          ]
        }
      ],
      "source": [
        "!pip install -U scikit-learn"
      ]
    },
    {
      "cell_type": "code",
      "execution_count": 2,
      "metadata": {
        "colab": {
          "base_uri": "https://localhost:8080/"
        },
        "id": "4lzfoRu2CB5h",
        "outputId": "e5067411-3896-4162-8da8-19fb46567abd"
      },
      "outputs": [
        {
          "output_type": "stream",
          "name": "stdout",
          "text": [
            "Looking in indexes: https://pypi.org/simple, https://us-python.pkg.dev/colab-wheels/public/simple/\n",
            "Requirement already satisfied: catboost in /usr/local/lib/python3.10/dist-packages (1.2)\n",
            "Requirement already satisfied: graphviz in /usr/local/lib/python3.10/dist-packages (from catboost) (0.20.1)\n",
            "Requirement already satisfied: matplotlib in /usr/local/lib/python3.10/dist-packages (from catboost) (3.7.1)\n",
            "Requirement already satisfied: numpy>=1.16.0 in /usr/local/lib/python3.10/dist-packages (from catboost) (1.22.4)\n",
            "Requirement already satisfied: pandas>=0.24 in /usr/local/lib/python3.10/dist-packages (from catboost) (1.5.3)\n",
            "Requirement already satisfied: scipy in /usr/local/lib/python3.10/dist-packages (from catboost) (1.10.1)\n",
            "Requirement already satisfied: plotly in /usr/local/lib/python3.10/dist-packages (from catboost) (5.13.1)\n",
            "Requirement already satisfied: six in /usr/local/lib/python3.10/dist-packages (from catboost) (1.16.0)\n",
            "Requirement already satisfied: python-dateutil>=2.8.1 in /usr/local/lib/python3.10/dist-packages (from pandas>=0.24->catboost) (2.8.2)\n",
            "Requirement already satisfied: pytz>=2020.1 in /usr/local/lib/python3.10/dist-packages (from pandas>=0.24->catboost) (2022.7.1)\n",
            "Requirement already satisfied: contourpy>=1.0.1 in /usr/local/lib/python3.10/dist-packages (from matplotlib->catboost) (1.0.7)\n",
            "Requirement already satisfied: cycler>=0.10 in /usr/local/lib/python3.10/dist-packages (from matplotlib->catboost) (0.11.0)\n",
            "Requirement already satisfied: fonttools>=4.22.0 in /usr/local/lib/python3.10/dist-packages (from matplotlib->catboost) (4.39.3)\n",
            "Requirement already satisfied: kiwisolver>=1.0.1 in /usr/local/lib/python3.10/dist-packages (from matplotlib->catboost) (1.4.4)\n",
            "Requirement already satisfied: packaging>=20.0 in /usr/local/lib/python3.10/dist-packages (from matplotlib->catboost) (23.1)\n",
            "Requirement already satisfied: pillow>=6.2.0 in /usr/local/lib/python3.10/dist-packages (from matplotlib->catboost) (8.4.0)\n",
            "Requirement already satisfied: pyparsing>=2.3.1 in /usr/local/lib/python3.10/dist-packages (from matplotlib->catboost) (3.0.9)\n",
            "Requirement already satisfied: tenacity>=6.2.0 in /usr/local/lib/python3.10/dist-packages (from plotly->catboost) (8.2.2)\n"
          ]
        }
      ],
      "source": [
        "!pip install -U catboost"
      ]
    },
    {
      "cell_type": "code",
      "execution_count": 3,
      "metadata": {
        "colab": {
          "base_uri": "https://localhost:8080/"
        },
        "id": "dR9sfLK9CGCU",
        "outputId": "9129b245-4362-448e-ac67-cad18b1de38d"
      },
      "outputs": [
        {
          "output_type": "stream",
          "name": "stdout",
          "text": [
            "Looking in indexes: https://pypi.org/simple, https://us-python.pkg.dev/colab-wheels/public/simple/\n",
            "Requirement already satisfied: lightgbm in /usr/local/lib/python3.10/dist-packages (3.3.5)\n",
            "Requirement already satisfied: wheel in /usr/local/lib/python3.10/dist-packages (from lightgbm) (0.40.0)\n",
            "Requirement already satisfied: numpy in /usr/local/lib/python3.10/dist-packages (from lightgbm) (1.22.4)\n",
            "Requirement already satisfied: scipy in /usr/local/lib/python3.10/dist-packages (from lightgbm) (1.10.1)\n",
            "Requirement already satisfied: scikit-learn!=0.22.0 in /usr/local/lib/python3.10/dist-packages (from lightgbm) (1.2.2)\n",
            "Requirement already satisfied: joblib>=1.1.1 in /usr/local/lib/python3.10/dist-packages (from scikit-learn!=0.22.0->lightgbm) (1.2.0)\n",
            "Requirement already satisfied: threadpoolctl>=2.0.0 in /usr/local/lib/python3.10/dist-packages (from scikit-learn!=0.22.0->lightgbm) (3.1.0)\n"
          ]
        }
      ],
      "source": [
        "!pip install -U lightgbm"
      ]
    },
    {
      "cell_type": "code",
      "source": [
        "!pip install -U phik"
      ],
      "metadata": {
        "colab": {
          "base_uri": "https://localhost:8080/"
        },
        "id": "jKBheZJsv_Oj",
        "outputId": "c8e5fdea-5803-4e62-b5a6-9c29588783b6"
      },
      "execution_count": 4,
      "outputs": [
        {
          "output_type": "stream",
          "name": "stdout",
          "text": [
            "Looking in indexes: https://pypi.org/simple, https://us-python.pkg.dev/colab-wheels/public/simple/\n",
            "Requirement already satisfied: phik in /usr/local/lib/python3.10/dist-packages (0.12.3)\n",
            "Requirement already satisfied: numpy>=1.18.0 in /usr/local/lib/python3.10/dist-packages (from phik) (1.22.4)\n",
            "Requirement already satisfied: scipy>=1.5.2 in /usr/local/lib/python3.10/dist-packages (from phik) (1.10.1)\n",
            "Requirement already satisfied: pandas>=0.25.1 in /usr/local/lib/python3.10/dist-packages (from phik) (1.5.3)\n",
            "Requirement already satisfied: matplotlib>=2.2.3 in /usr/local/lib/python3.10/dist-packages (from phik) (3.7.1)\n",
            "Requirement already satisfied: joblib>=0.14.1 in /usr/local/lib/python3.10/dist-packages (from phik) (1.2.0)\n",
            "Requirement already satisfied: contourpy>=1.0.1 in /usr/local/lib/python3.10/dist-packages (from matplotlib>=2.2.3->phik) (1.0.7)\n",
            "Requirement already satisfied: cycler>=0.10 in /usr/local/lib/python3.10/dist-packages (from matplotlib>=2.2.3->phik) (0.11.0)\n",
            "Requirement already satisfied: fonttools>=4.22.0 in /usr/local/lib/python3.10/dist-packages (from matplotlib>=2.2.3->phik) (4.39.3)\n",
            "Requirement already satisfied: kiwisolver>=1.0.1 in /usr/local/lib/python3.10/dist-packages (from matplotlib>=2.2.3->phik) (1.4.4)\n",
            "Requirement already satisfied: packaging>=20.0 in /usr/local/lib/python3.10/dist-packages (from matplotlib>=2.2.3->phik) (23.1)\n",
            "Requirement already satisfied: pillow>=6.2.0 in /usr/local/lib/python3.10/dist-packages (from matplotlib>=2.2.3->phik) (8.4.0)\n",
            "Requirement already satisfied: pyparsing>=2.3.1 in /usr/local/lib/python3.10/dist-packages (from matplotlib>=2.2.3->phik) (3.0.9)\n",
            "Requirement already satisfied: python-dateutil>=2.7 in /usr/local/lib/python3.10/dist-packages (from matplotlib>=2.2.3->phik) (2.8.2)\n",
            "Requirement already satisfied: pytz>=2020.1 in /usr/local/lib/python3.10/dist-packages (from pandas>=0.25.1->phik) (2022.7.1)\n",
            "Requirement already satisfied: six>=1.5 in /usr/local/lib/python3.10/dist-packages (from python-dateutil>=2.7->matplotlib>=2.2.3->phik) (1.16.0)\n"
          ]
        }
      ]
    },
    {
      "cell_type": "code",
      "execution_count": 5,
      "metadata": {
        "id": "vdhFH1Wq_Pxv"
      },
      "outputs": [],
      "source": [
        "import pandas as pd\n",
        "import numpy as np\n",
        "import seaborn as sns\n",
        "import matplotlib.pyplot as plt\n",
        "import phik\n",
        "\n",
        "from sklearn.model_selection import train_test_split, GridSearchCV\n",
        "from sklearn.metrics import mean_squared_error\n",
        "from sklearn.pipeline import make_pipeline\n",
        "from sklearn.preprocessing import OrdinalEncoder, StandardScaler\n",
        "from sklearn.compose import make_column_transformer\n",
        "from sklearn.linear_model import Ridge\n",
        "from lightgbm import LGBMRegressor\n",
        "from catboost import CatBoostRegressor\n",
        "\n",
        "RANDOM_STATE = 42"
      ]
    },
    {
      "cell_type": "markdown",
      "metadata": {
        "id": "iQHXmcw7_Px1"
      },
      "source": [
        "### Data uploading and preprocessing"
      ]
    },
    {
      "cell_type": "code",
      "execution_count": 6,
      "metadata": {
        "id": "SL-UDU--_Px1"
      },
      "outputs": [],
      "source": [
        "df = pd.read_csv('https://code.s3.yandex.net/datasets/autos.csv')"
      ]
    },
    {
      "cell_type": "code",
      "execution_count": 7,
      "metadata": {
        "colab": {
          "base_uri": "https://localhost:8080/",
          "height": 444
        },
        "id": "N5jOFOXYEFZv",
        "outputId": "762be813-7465-4ca5-b6c8-13f84aeec2a0"
      },
      "outputs": [
        {
          "output_type": "execute_result",
          "data": {
            "text/plain": [
              "           DateCrawled  Price VehicleType  RegistrationYear Gearbox  Power  \\\n",
              "0  2016-03-24 11:52:17    480         NaN              1993  manual      0   \n",
              "1  2016-03-24 10:58:45  18300       coupe              2011  manual    190   \n",
              "2  2016-03-14 12:52:21   9800         suv              2004    auto    163   \n",
              "3  2016-03-17 16:54:04   1500       small              2001  manual     75   \n",
              "4  2016-03-31 17:25:20   3600       small              2008  manual     69   \n",
              "\n",
              "   Model  Kilometer  RegistrationMonth  FuelType       Brand Repaired  \\\n",
              "0   golf     150000                  0    petrol  volkswagen      NaN   \n",
              "1    NaN     125000                  5  gasoline        audi      yes   \n",
              "2  grand     125000                  8  gasoline        jeep      NaN   \n",
              "3   golf     150000                  6    petrol  volkswagen       no   \n",
              "4  fabia      90000                  7  gasoline       skoda       no   \n",
              "\n",
              "           DateCreated  NumberOfPictures  PostalCode             LastSeen  \n",
              "0  2016-03-24 00:00:00                 0       70435  2016-04-07 03:16:57  \n",
              "1  2016-03-24 00:00:00                 0       66954  2016-04-07 01:46:50  \n",
              "2  2016-03-14 00:00:00                 0       90480  2016-04-05 12:47:46  \n",
              "3  2016-03-17 00:00:00                 0       91074  2016-03-17 17:40:17  \n",
              "4  2016-03-31 00:00:00                 0       60437  2016-04-06 10:17:21  "
            ],
            "text/html": [
              "\n",
              "  <div id=\"df-c0f634aa-26a8-42da-882c-51bc6f670da4\">\n",
              "    <div class=\"colab-df-container\">\n",
              "      <div>\n",
              "<style scoped>\n",
              "    .dataframe tbody tr th:only-of-type {\n",
              "        vertical-align: middle;\n",
              "    }\n",
              "\n",
              "    .dataframe tbody tr th {\n",
              "        vertical-align: top;\n",
              "    }\n",
              "\n",
              "    .dataframe thead th {\n",
              "        text-align: right;\n",
              "    }\n",
              "</style>\n",
              "<table border=\"1\" class=\"dataframe\">\n",
              "  <thead>\n",
              "    <tr style=\"text-align: right;\">\n",
              "      <th></th>\n",
              "      <th>DateCrawled</th>\n",
              "      <th>Price</th>\n",
              "      <th>VehicleType</th>\n",
              "      <th>RegistrationYear</th>\n",
              "      <th>Gearbox</th>\n",
              "      <th>Power</th>\n",
              "      <th>Model</th>\n",
              "      <th>Kilometer</th>\n",
              "      <th>RegistrationMonth</th>\n",
              "      <th>FuelType</th>\n",
              "      <th>Brand</th>\n",
              "      <th>Repaired</th>\n",
              "      <th>DateCreated</th>\n",
              "      <th>NumberOfPictures</th>\n",
              "      <th>PostalCode</th>\n",
              "      <th>LastSeen</th>\n",
              "    </tr>\n",
              "  </thead>\n",
              "  <tbody>\n",
              "    <tr>\n",
              "      <th>0</th>\n",
              "      <td>2016-03-24 11:52:17</td>\n",
              "      <td>480</td>\n",
              "      <td>NaN</td>\n",
              "      <td>1993</td>\n",
              "      <td>manual</td>\n",
              "      <td>0</td>\n",
              "      <td>golf</td>\n",
              "      <td>150000</td>\n",
              "      <td>0</td>\n",
              "      <td>petrol</td>\n",
              "      <td>volkswagen</td>\n",
              "      <td>NaN</td>\n",
              "      <td>2016-03-24 00:00:00</td>\n",
              "      <td>0</td>\n",
              "      <td>70435</td>\n",
              "      <td>2016-04-07 03:16:57</td>\n",
              "    </tr>\n",
              "    <tr>\n",
              "      <th>1</th>\n",
              "      <td>2016-03-24 10:58:45</td>\n",
              "      <td>18300</td>\n",
              "      <td>coupe</td>\n",
              "      <td>2011</td>\n",
              "      <td>manual</td>\n",
              "      <td>190</td>\n",
              "      <td>NaN</td>\n",
              "      <td>125000</td>\n",
              "      <td>5</td>\n",
              "      <td>gasoline</td>\n",
              "      <td>audi</td>\n",
              "      <td>yes</td>\n",
              "      <td>2016-03-24 00:00:00</td>\n",
              "      <td>0</td>\n",
              "      <td>66954</td>\n",
              "      <td>2016-04-07 01:46:50</td>\n",
              "    </tr>\n",
              "    <tr>\n",
              "      <th>2</th>\n",
              "      <td>2016-03-14 12:52:21</td>\n",
              "      <td>9800</td>\n",
              "      <td>suv</td>\n",
              "      <td>2004</td>\n",
              "      <td>auto</td>\n",
              "      <td>163</td>\n",
              "      <td>grand</td>\n",
              "      <td>125000</td>\n",
              "      <td>8</td>\n",
              "      <td>gasoline</td>\n",
              "      <td>jeep</td>\n",
              "      <td>NaN</td>\n",
              "      <td>2016-03-14 00:00:00</td>\n",
              "      <td>0</td>\n",
              "      <td>90480</td>\n",
              "      <td>2016-04-05 12:47:46</td>\n",
              "    </tr>\n",
              "    <tr>\n",
              "      <th>3</th>\n",
              "      <td>2016-03-17 16:54:04</td>\n",
              "      <td>1500</td>\n",
              "      <td>small</td>\n",
              "      <td>2001</td>\n",
              "      <td>manual</td>\n",
              "      <td>75</td>\n",
              "      <td>golf</td>\n",
              "      <td>150000</td>\n",
              "      <td>6</td>\n",
              "      <td>petrol</td>\n",
              "      <td>volkswagen</td>\n",
              "      <td>no</td>\n",
              "      <td>2016-03-17 00:00:00</td>\n",
              "      <td>0</td>\n",
              "      <td>91074</td>\n",
              "      <td>2016-03-17 17:40:17</td>\n",
              "    </tr>\n",
              "    <tr>\n",
              "      <th>4</th>\n",
              "      <td>2016-03-31 17:25:20</td>\n",
              "      <td>3600</td>\n",
              "      <td>small</td>\n",
              "      <td>2008</td>\n",
              "      <td>manual</td>\n",
              "      <td>69</td>\n",
              "      <td>fabia</td>\n",
              "      <td>90000</td>\n",
              "      <td>7</td>\n",
              "      <td>gasoline</td>\n",
              "      <td>skoda</td>\n",
              "      <td>no</td>\n",
              "      <td>2016-03-31 00:00:00</td>\n",
              "      <td>0</td>\n",
              "      <td>60437</td>\n",
              "      <td>2016-04-06 10:17:21</td>\n",
              "    </tr>\n",
              "  </tbody>\n",
              "</table>\n",
              "</div>\n",
              "      <button class=\"colab-df-convert\" onclick=\"convertToInteractive('df-c0f634aa-26a8-42da-882c-51bc6f670da4')\"\n",
              "              title=\"Convert this dataframe to an interactive table.\"\n",
              "              style=\"display:none;\">\n",
              "        \n",
              "  <svg xmlns=\"http://www.w3.org/2000/svg\" height=\"24px\"viewBox=\"0 0 24 24\"\n",
              "       width=\"24px\">\n",
              "    <path d=\"M0 0h24v24H0V0z\" fill=\"none\"/>\n",
              "    <path d=\"M18.56 5.44l.94 2.06.94-2.06 2.06-.94-2.06-.94-.94-2.06-.94 2.06-2.06.94zm-11 1L8.5 8.5l.94-2.06 2.06-.94-2.06-.94L8.5 2.5l-.94 2.06-2.06.94zm10 10l.94 2.06.94-2.06 2.06-.94-2.06-.94-.94-2.06-.94 2.06-2.06.94z\"/><path d=\"M17.41 7.96l-1.37-1.37c-.4-.4-.92-.59-1.43-.59-.52 0-1.04.2-1.43.59L10.3 9.45l-7.72 7.72c-.78.78-.78 2.05 0 2.83L4 21.41c.39.39.9.59 1.41.59.51 0 1.02-.2 1.41-.59l7.78-7.78 2.81-2.81c.8-.78.8-2.07 0-2.86zM5.41 20L4 18.59l7.72-7.72 1.47 1.35L5.41 20z\"/>\n",
              "  </svg>\n",
              "      </button>\n",
              "      \n",
              "  <style>\n",
              "    .colab-df-container {\n",
              "      display:flex;\n",
              "      flex-wrap:wrap;\n",
              "      gap: 12px;\n",
              "    }\n",
              "\n",
              "    .colab-df-convert {\n",
              "      background-color: #E8F0FE;\n",
              "      border: none;\n",
              "      border-radius: 50%;\n",
              "      cursor: pointer;\n",
              "      display: none;\n",
              "      fill: #1967D2;\n",
              "      height: 32px;\n",
              "      padding: 0 0 0 0;\n",
              "      width: 32px;\n",
              "    }\n",
              "\n",
              "    .colab-df-convert:hover {\n",
              "      background-color: #E2EBFA;\n",
              "      box-shadow: 0px 1px 2px rgba(60, 64, 67, 0.3), 0px 1px 3px 1px rgba(60, 64, 67, 0.15);\n",
              "      fill: #174EA6;\n",
              "    }\n",
              "\n",
              "    [theme=dark] .colab-df-convert {\n",
              "      background-color: #3B4455;\n",
              "      fill: #D2E3FC;\n",
              "    }\n",
              "\n",
              "    [theme=dark] .colab-df-convert:hover {\n",
              "      background-color: #434B5C;\n",
              "      box-shadow: 0px 1px 3px 1px rgba(0, 0, 0, 0.15);\n",
              "      filter: drop-shadow(0px 1px 2px rgba(0, 0, 0, 0.3));\n",
              "      fill: #FFFFFF;\n",
              "    }\n",
              "  </style>\n",
              "\n",
              "      <script>\n",
              "        const buttonEl =\n",
              "          document.querySelector('#df-c0f634aa-26a8-42da-882c-51bc6f670da4 button.colab-df-convert');\n",
              "        buttonEl.style.display =\n",
              "          google.colab.kernel.accessAllowed ? 'block' : 'none';\n",
              "\n",
              "        async function convertToInteractive(key) {\n",
              "          const element = document.querySelector('#df-c0f634aa-26a8-42da-882c-51bc6f670da4');\n",
              "          const dataTable =\n",
              "            await google.colab.kernel.invokeFunction('convertToInteractive',\n",
              "                                                     [key], {});\n",
              "          if (!dataTable) return;\n",
              "\n",
              "          const docLinkHtml = 'Like what you see? Visit the ' +\n",
              "            '<a target=\"_blank\" href=https://colab.research.google.com/notebooks/data_table.ipynb>data table notebook</a>'\n",
              "            + ' to learn more about interactive tables.';\n",
              "          element.innerHTML = '';\n",
              "          dataTable['output_type'] = 'display_data';\n",
              "          await google.colab.output.renderOutput(dataTable, element);\n",
              "          const docLink = document.createElement('div');\n",
              "          docLink.innerHTML = docLinkHtml;\n",
              "          element.appendChild(docLink);\n",
              "        }\n",
              "      </script>\n",
              "    </div>\n",
              "  </div>\n",
              "  "
            ]
          },
          "metadata": {},
          "execution_count": 7
        }
      ],
      "source": [
        "df.head()"
      ]
    },
    {
      "cell_type": "code",
      "execution_count": 8,
      "metadata": {
        "colab": {
          "base_uri": "https://localhost:8080/"
        },
        "id": "uEbE03Kg_Px1",
        "outputId": "588dab24-3a12-4ba6-93b3-8c106e11029d"
      },
      "outputs": [
        {
          "output_type": "execute_result",
          "data": {
            "text/plain": [
              "4"
            ]
          },
          "metadata": {},
          "execution_count": 8
        }
      ],
      "source": [
        "df.duplicated().sum()"
      ]
    },
    {
      "cell_type": "code",
      "execution_count": 9,
      "metadata": {
        "id": "sIA7bNH2_Px2"
      },
      "outputs": [],
      "source": [
        "df = df.drop_duplicates().reset_index(drop=True)"
      ]
    },
    {
      "cell_type": "code",
      "execution_count": 10,
      "metadata": {
        "colab": {
          "base_uri": "https://localhost:8080/"
        },
        "id": "7wmomujm_Px2",
        "outputId": "7557eb4e-fdf1-4c42-9b58-c49394f604a8",
        "scrolled": true
      },
      "outputs": [
        {
          "output_type": "stream",
          "name": "stdout",
          "text": [
            "<class 'pandas.core.frame.DataFrame'>\n",
            "RangeIndex: 354365 entries, 0 to 354364\n",
            "Data columns (total 16 columns):\n",
            " #   Column             Non-Null Count   Dtype \n",
            "---  ------             --------------   ----- \n",
            " 0   DateCrawled        354365 non-null  object\n",
            " 1   Price              354365 non-null  int64 \n",
            " 2   VehicleType        316875 non-null  object\n",
            " 3   RegistrationYear   354365 non-null  int64 \n",
            " 4   Gearbox            334532 non-null  object\n",
            " 5   Power              354365 non-null  int64 \n",
            " 6   Model              334660 non-null  object\n",
            " 7   Kilometer          354365 non-null  int64 \n",
            " 8   RegistrationMonth  354365 non-null  int64 \n",
            " 9   FuelType           321470 non-null  object\n",
            " 10  Brand              354365 non-null  object\n",
            " 11  Repaired           283211 non-null  object\n",
            " 12  DateCreated        354365 non-null  object\n",
            " 13  NumberOfPictures   354365 non-null  int64 \n",
            " 14  PostalCode         354365 non-null  int64 \n",
            " 15  LastSeen           354365 non-null  object\n",
            "dtypes: int64(7), object(9)\n",
            "memory usage: 43.3+ MB\n"
          ]
        },
        {
          "output_type": "execute_result",
          "data": {
            "text/plain": [
              "(None,\n",
              " DateCrawled              0\n",
              " Price                    0\n",
              " VehicleType          37490\n",
              " RegistrationYear         0\n",
              " Gearbox              19833\n",
              " Power                    0\n",
              " Model                19705\n",
              " Kilometer                0\n",
              " RegistrationMonth        0\n",
              " FuelType             32895\n",
              " Brand                    0\n",
              " Repaired             71154\n",
              " DateCreated              0\n",
              " NumberOfPictures         0\n",
              " PostalCode               0\n",
              " LastSeen                 0\n",
              " dtype: int64)"
            ]
          },
          "metadata": {},
          "execution_count": 10
        }
      ],
      "source": [
        "df.info(), df.isna().sum()"
      ]
    },
    {
      "cell_type": "code",
      "execution_count": 11,
      "metadata": {
        "colab": {
          "base_uri": "https://localhost:8080/"
        },
        "id": "6BjWBr8K_Px2",
        "outputId": "675cd369-f658-4afc-d2b8-57065439d316"
      },
      "outputs": [
        {
          "output_type": "execute_result",
          "data": {
            "text/plain": [
              "no     0.697467\n",
              "NaN    0.200793\n",
              "yes    0.101740\n",
              "Name: Repaired, dtype: float64"
            ]
          },
          "metadata": {},
          "execution_count": 11
        }
      ],
      "source": [
        "df.Repaired.value_counts(normalize=True, dropna=False)"
      ]
    },
    {
      "cell_type": "markdown",
      "metadata": {
        "id": "waOwHild_Px2"
      },
      "source": [
        "As you can see, there are a lot of missing values in the dataset, in some columns, such as Repaired, this value exceeds 20%. The best solution would be to get rid of the omissions altogether and write to the application developers to block the possibility of publishing an ad without fully filled in fields. But while the developers will correct the requirements for making an announcement, we will work with what is there.\n",
        "Since the omissions are present in the columns of the object type, we will replace them with a stub 'tbd' (to be determined)."
      ]
    },
    {
      "cell_type": "code",
      "execution_count": 12,
      "metadata": {
        "id": "ln7vj_Yh_Px2"
      },
      "outputs": [],
      "source": [
        "df = df.fillna('tbd')"
      ]
    },
    {
      "cell_type": "code",
      "execution_count": 13,
      "metadata": {
        "colab": {
          "base_uri": "https://localhost:8080/",
          "height": 300
        },
        "id": "i6I-lMFY_Px3",
        "outputId": "ae70b787-2e47-4a35-dcf1-bd87578cdd9e",
        "scrolled": false
      },
      "outputs": [
        {
          "output_type": "execute_result",
          "data": {
            "text/plain": [
              "               Price  RegistrationYear          Power      Kilometer  \\\n",
              "count  354365.000000     354365.000000  354365.000000  354365.000000   \n",
              "mean     4416.679830       2004.234481     110.093816  128211.363989   \n",
              "std      4514.176349         90.228466     189.851330   37905.083858   \n",
              "min         0.000000       1000.000000       0.000000    5000.000000   \n",
              "25%      1050.000000       1999.000000      69.000000  125000.000000   \n",
              "50%      2700.000000       2003.000000     105.000000  150000.000000   \n",
              "75%      6400.000000       2008.000000     143.000000  150000.000000   \n",
              "max     20000.000000       9999.000000   20000.000000  150000.000000   \n",
              "\n",
              "       RegistrationMonth  NumberOfPictures     PostalCode  \n",
              "count      354365.000000          354365.0  354365.000000  \n",
              "mean            5.714650               0.0   50508.503800  \n",
              "std             3.726432               0.0   25783.100078  \n",
              "min             0.000000               0.0    1067.000000  \n",
              "25%             3.000000               0.0   30165.000000  \n",
              "50%             6.000000               0.0   49413.000000  \n",
              "75%             9.000000               0.0   71083.000000  \n",
              "max            12.000000               0.0   99998.000000  "
            ],
            "text/html": [
              "\n",
              "  <div id=\"df-a1b29009-7890-45a8-bce6-d9f8a53d9079\">\n",
              "    <div class=\"colab-df-container\">\n",
              "      <div>\n",
              "<style scoped>\n",
              "    .dataframe tbody tr th:only-of-type {\n",
              "        vertical-align: middle;\n",
              "    }\n",
              "\n",
              "    .dataframe tbody tr th {\n",
              "        vertical-align: top;\n",
              "    }\n",
              "\n",
              "    .dataframe thead th {\n",
              "        text-align: right;\n",
              "    }\n",
              "</style>\n",
              "<table border=\"1\" class=\"dataframe\">\n",
              "  <thead>\n",
              "    <tr style=\"text-align: right;\">\n",
              "      <th></th>\n",
              "      <th>Price</th>\n",
              "      <th>RegistrationYear</th>\n",
              "      <th>Power</th>\n",
              "      <th>Kilometer</th>\n",
              "      <th>RegistrationMonth</th>\n",
              "      <th>NumberOfPictures</th>\n",
              "      <th>PostalCode</th>\n",
              "    </tr>\n",
              "  </thead>\n",
              "  <tbody>\n",
              "    <tr>\n",
              "      <th>count</th>\n",
              "      <td>354365.000000</td>\n",
              "      <td>354365.000000</td>\n",
              "      <td>354365.000000</td>\n",
              "      <td>354365.000000</td>\n",
              "      <td>354365.000000</td>\n",
              "      <td>354365.0</td>\n",
              "      <td>354365.000000</td>\n",
              "    </tr>\n",
              "    <tr>\n",
              "      <th>mean</th>\n",
              "      <td>4416.679830</td>\n",
              "      <td>2004.234481</td>\n",
              "      <td>110.093816</td>\n",
              "      <td>128211.363989</td>\n",
              "      <td>5.714650</td>\n",
              "      <td>0.0</td>\n",
              "      <td>50508.503800</td>\n",
              "    </tr>\n",
              "    <tr>\n",
              "      <th>std</th>\n",
              "      <td>4514.176349</td>\n",
              "      <td>90.228466</td>\n",
              "      <td>189.851330</td>\n",
              "      <td>37905.083858</td>\n",
              "      <td>3.726432</td>\n",
              "      <td>0.0</td>\n",
              "      <td>25783.100078</td>\n",
              "    </tr>\n",
              "    <tr>\n",
              "      <th>min</th>\n",
              "      <td>0.000000</td>\n",
              "      <td>1000.000000</td>\n",
              "      <td>0.000000</td>\n",
              "      <td>5000.000000</td>\n",
              "      <td>0.000000</td>\n",
              "      <td>0.0</td>\n",
              "      <td>1067.000000</td>\n",
              "    </tr>\n",
              "    <tr>\n",
              "      <th>25%</th>\n",
              "      <td>1050.000000</td>\n",
              "      <td>1999.000000</td>\n",
              "      <td>69.000000</td>\n",
              "      <td>125000.000000</td>\n",
              "      <td>3.000000</td>\n",
              "      <td>0.0</td>\n",
              "      <td>30165.000000</td>\n",
              "    </tr>\n",
              "    <tr>\n",
              "      <th>50%</th>\n",
              "      <td>2700.000000</td>\n",
              "      <td>2003.000000</td>\n",
              "      <td>105.000000</td>\n",
              "      <td>150000.000000</td>\n",
              "      <td>6.000000</td>\n",
              "      <td>0.0</td>\n",
              "      <td>49413.000000</td>\n",
              "    </tr>\n",
              "    <tr>\n",
              "      <th>75%</th>\n",
              "      <td>6400.000000</td>\n",
              "      <td>2008.000000</td>\n",
              "      <td>143.000000</td>\n",
              "      <td>150000.000000</td>\n",
              "      <td>9.000000</td>\n",
              "      <td>0.0</td>\n",
              "      <td>71083.000000</td>\n",
              "    </tr>\n",
              "    <tr>\n",
              "      <th>max</th>\n",
              "      <td>20000.000000</td>\n",
              "      <td>9999.000000</td>\n",
              "      <td>20000.000000</td>\n",
              "      <td>150000.000000</td>\n",
              "      <td>12.000000</td>\n",
              "      <td>0.0</td>\n",
              "      <td>99998.000000</td>\n",
              "    </tr>\n",
              "  </tbody>\n",
              "</table>\n",
              "</div>\n",
              "      <button class=\"colab-df-convert\" onclick=\"convertToInteractive('df-a1b29009-7890-45a8-bce6-d9f8a53d9079')\"\n",
              "              title=\"Convert this dataframe to an interactive table.\"\n",
              "              style=\"display:none;\">\n",
              "        \n",
              "  <svg xmlns=\"http://www.w3.org/2000/svg\" height=\"24px\"viewBox=\"0 0 24 24\"\n",
              "       width=\"24px\">\n",
              "    <path d=\"M0 0h24v24H0V0z\" fill=\"none\"/>\n",
              "    <path d=\"M18.56 5.44l.94 2.06.94-2.06 2.06-.94-2.06-.94-.94-2.06-.94 2.06-2.06.94zm-11 1L8.5 8.5l.94-2.06 2.06-.94-2.06-.94L8.5 2.5l-.94 2.06-2.06.94zm10 10l.94 2.06.94-2.06 2.06-.94-2.06-.94-.94-2.06-.94 2.06-2.06.94z\"/><path d=\"M17.41 7.96l-1.37-1.37c-.4-.4-.92-.59-1.43-.59-.52 0-1.04.2-1.43.59L10.3 9.45l-7.72 7.72c-.78.78-.78 2.05 0 2.83L4 21.41c.39.39.9.59 1.41.59.51 0 1.02-.2 1.41-.59l7.78-7.78 2.81-2.81c.8-.78.8-2.07 0-2.86zM5.41 20L4 18.59l7.72-7.72 1.47 1.35L5.41 20z\"/>\n",
              "  </svg>\n",
              "      </button>\n",
              "      \n",
              "  <style>\n",
              "    .colab-df-container {\n",
              "      display:flex;\n",
              "      flex-wrap:wrap;\n",
              "      gap: 12px;\n",
              "    }\n",
              "\n",
              "    .colab-df-convert {\n",
              "      background-color: #E8F0FE;\n",
              "      border: none;\n",
              "      border-radius: 50%;\n",
              "      cursor: pointer;\n",
              "      display: none;\n",
              "      fill: #1967D2;\n",
              "      height: 32px;\n",
              "      padding: 0 0 0 0;\n",
              "      width: 32px;\n",
              "    }\n",
              "\n",
              "    .colab-df-convert:hover {\n",
              "      background-color: #E2EBFA;\n",
              "      box-shadow: 0px 1px 2px rgba(60, 64, 67, 0.3), 0px 1px 3px 1px rgba(60, 64, 67, 0.15);\n",
              "      fill: #174EA6;\n",
              "    }\n",
              "\n",
              "    [theme=dark] .colab-df-convert {\n",
              "      background-color: #3B4455;\n",
              "      fill: #D2E3FC;\n",
              "    }\n",
              "\n",
              "    [theme=dark] .colab-df-convert:hover {\n",
              "      background-color: #434B5C;\n",
              "      box-shadow: 0px 1px 3px 1px rgba(0, 0, 0, 0.15);\n",
              "      filter: drop-shadow(0px 1px 2px rgba(0, 0, 0, 0.3));\n",
              "      fill: #FFFFFF;\n",
              "    }\n",
              "  </style>\n",
              "\n",
              "      <script>\n",
              "        const buttonEl =\n",
              "          document.querySelector('#df-a1b29009-7890-45a8-bce6-d9f8a53d9079 button.colab-df-convert');\n",
              "        buttonEl.style.display =\n",
              "          google.colab.kernel.accessAllowed ? 'block' : 'none';\n",
              "\n",
              "        async function convertToInteractive(key) {\n",
              "          const element = document.querySelector('#df-a1b29009-7890-45a8-bce6-d9f8a53d9079');\n",
              "          const dataTable =\n",
              "            await google.colab.kernel.invokeFunction('convertToInteractive',\n",
              "                                                     [key], {});\n",
              "          if (!dataTable) return;\n",
              "\n",
              "          const docLinkHtml = 'Like what you see? Visit the ' +\n",
              "            '<a target=\"_blank\" href=https://colab.research.google.com/notebooks/data_table.ipynb>data table notebook</a>'\n",
              "            + ' to learn more about interactive tables.';\n",
              "          element.innerHTML = '';\n",
              "          dataTable['output_type'] = 'display_data';\n",
              "          await google.colab.output.renderOutput(dataTable, element);\n",
              "          const docLink = document.createElement('div');\n",
              "          docLink.innerHTML = docLinkHtml;\n",
              "          element.appendChild(docLink);\n",
              "        }\n",
              "      </script>\n",
              "    </div>\n",
              "  </div>\n",
              "  "
            ]
          },
          "metadata": {},
          "execution_count": 13
        }
      ],
      "source": [
        "df.describe()"
      ]
    },
    {
      "cell_type": "markdown",
      "metadata": {
        "id": "g1-U3g1-_Px4"
      },
      "source": [
        "Removing anamole values:\n",
        "\n",
        "1.Zero month\n",
        "\n",
        "2.t.k. the year of the invention of the car is 1886, you can safely remove everything that was before 1900 and after 2023\n",
        "\n",
        "3.To date, the Dagger GT of TranStar Racing LLC with a capacity of 2028 hp has been named the most powerful passenger car in the world. Accordingly, everything above will be considered anomalies. Cars with zero power capacity are possible without an engine and are sold for spare parts.\n",
        "\n",
        "4.The price below 100 euros seems suspiciously low, we will remove everything below this mark"
      ]
    },
    {
      "cell_type": "code",
      "execution_count": 14,
      "metadata": {
        "id": "ZacNjY6H_Px5",
        "scrolled": true
      },
      "outputs": [],
      "source": [
        "df = df[(df['RegistrationMonth'] != 0)]\n",
        "df = df[df['RegistrationYear'].between(1910, 2019)]\n",
        "df = df[df['Power'] < 2028]\n",
        "df = df[df['Price'] > 100]"
      ]
    },
    {
      "cell_type": "code",
      "execution_count": 15,
      "metadata": {
        "id": "47sRmg3S_Px7"
      },
      "outputs": [],
      "source": [
        "df['DateCreated'] = df['DateCreated'].astype('datetime64')\n",
        "df['LastSeen'] = df['LastSeen'].astype('datetime64')"
      ]
    },
    {
      "cell_type": "code",
      "execution_count": 16,
      "metadata": {
        "id": "ADwUM1Wt_PyP"
      },
      "outputs": [],
      "source": [
        "df['ad_lifetime'] = (df['LastSeen'] - df['DateCreated']).dt.days"
      ]
    },
    {
      "cell_type": "code",
      "execution_count": 17,
      "metadata": {
        "colab": {
          "base_uri": "https://localhost:8080/"
        },
        "id": "8EaAYefA_PyQ",
        "outputId": "264b10c9-f113-40c2-d5ca-f5093856b1ec",
        "scrolled": false
      },
      "outputs": [
        {
          "output_type": "stream",
          "name": "stdout",
          "text": [
            "<class 'pandas.core.frame.DataFrame'>\n",
            "Int64Index: 308732 entries, 1 to 354364\n",
            "Data columns (total 17 columns):\n",
            " #   Column             Non-Null Count   Dtype         \n",
            "---  ------             --------------   -----         \n",
            " 0   DateCrawled        308732 non-null  object        \n",
            " 1   Price              308732 non-null  int64         \n",
            " 2   VehicleType        308732 non-null  object        \n",
            " 3   RegistrationYear   308732 non-null  int64         \n",
            " 4   Gearbox            308732 non-null  object        \n",
            " 5   Power              308732 non-null  int64         \n",
            " 6   Model              308732 non-null  object        \n",
            " 7   Kilometer          308732 non-null  int64         \n",
            " 8   RegistrationMonth  308732 non-null  int64         \n",
            " 9   FuelType           308732 non-null  object        \n",
            " 10  Brand              308732 non-null  object        \n",
            " 11  Repaired           308732 non-null  object        \n",
            " 12  DateCreated        308732 non-null  datetime64[ns]\n",
            " 13  NumberOfPictures   308732 non-null  int64         \n",
            " 14  PostalCode         308732 non-null  int64         \n",
            " 15  LastSeen           308732 non-null  datetime64[ns]\n",
            " 16  ad_lifetime        308732 non-null  int64         \n",
            "dtypes: datetime64[ns](2), int64(8), object(7)\n",
            "memory usage: 42.4+ MB\n"
          ]
        }
      ],
      "source": [
        "df.info()"
      ]
    },
    {
      "cell_type": "markdown",
      "source": [
        "Let's remove useless features such as 'DateCrawled', 'DateCreated', 'LastSeen', 'NumberOfPictures' and check the correlation between the remaining features with the help of $\\phi_K$"
      ],
      "metadata": {
        "id": "k0_khyBnvhF1"
      }
    },
    {
      "cell_type": "code",
      "source": [
        "df = df.drop(['DateCrawled', 'DateCreated', 'LastSeen', 'NumberOfPictures'], axis=1)"
      ],
      "metadata": {
        "id": "nyA5eDM8wrrO"
      },
      "execution_count": 18,
      "outputs": []
    },
    {
      "cell_type": "code",
      "source": [
        "plt.figure(figsize=(10, 10))\n",
        "sns.heatmap(df.phik_matrix().sort_values(by='Price'), cmap='Blues', annot=True)\n",
        "plt.title('correlation $\\phi_K$');"
      ],
      "metadata": {
        "colab": {
          "base_uri": "https://localhost:8080/",
          "height": 986
        },
        "id": "c4ZS85_HvPIK",
        "outputId": "3c81166b-eff4-478a-ce8e-f536e58701a0"
      },
      "execution_count": 19,
      "outputs": [
        {
          "output_type": "stream",
          "name": "stdout",
          "text": [
            "interval columns not set, guessing: ['Price', 'RegistrationYear', 'Power', 'Kilometer', 'RegistrationMonth', 'PostalCode', 'ad_lifetime']\n"
          ]
        },
        {
          "output_type": "display_data",
          "data": {
            "text/plain": [
              "<Figure size 1000x1000 with 2 Axes>"
            ],
            "image/png": "[encoded data removed]"
          },
          "metadata": {}
        }
      ]
    },
    {
      "cell_type": "markdown",
      "source": [
        "There is no strong multicollinearity between the signs. Let's move on"
      ],
      "metadata": {
        "id": "Fj6nFWTvyufh"
      }
    },
    {
      "cell_type": "markdown",
      "metadata": {
        "id": "i_jchEtG_PyR"
      },
      "source": [
        "### Splitting into training and test samples"
      ]
    },
    {
      "cell_type": "markdown",
      "source": [
        "Let's split dataset into train and test samples with test size of 20 percentage."
      ],
      "metadata": {
        "id": "vAWDRvdlzmHk"
      }
    },
    {
      "cell_type": "code",
      "execution_count": 20,
      "metadata": {
        "id": "eBUg3mV-_PyT"
      },
      "outputs": [],
      "source": [
        "X = df.drop(['Price'], axis=1)\n",
        "y = df['Price']"
      ]
    },
    {
      "cell_type": "code",
      "execution_count": 21,
      "metadata": {
        "id": "8dIqMNyB_PyV"
      },
      "outputs": [],
      "source": [
        "X_train, X_test, y_train, y_test = train_test_split(X, y, test_size=0.20, random_state=RANDOM_STATE)"
      ]
    },
    {
      "cell_type": "markdown",
      "source": [
        "We need to create lists with columns names of different data types to add them into column transformer."
      ],
      "metadata": {
        "id": "FKk81wf00BAg"
      }
    },
    {
      "cell_type": "code",
      "execution_count": 22,
      "metadata": {
        "id": "HZL_ypTA_PyW"
      },
      "outputs": [],
      "source": [
        "cat_features = X.select_dtypes(include='object').columns.to_list()\n",
        "num_features = X.select_dtypes(exclude='object').columns.to_list()"
      ]
    },
    {
      "cell_type": "code",
      "source": [
        "display(X_train[cat_features].head()), display(X_train[num_features].head())"
      ],
      "metadata": {
        "colab": {
          "base_uri": "https://localhost:8080/",
          "height": 413
        },
        "id": "yAMl91u80uDt",
        "outputId": "5e7a880c-fedc-4bcd-e32e-3bd39b2ab878"
      },
      "execution_count": 23,
      "outputs": [
        {
          "output_type": "display_data",
          "data": {
            "text/plain": [
              "       VehicleType Gearbox   Model FuelType          Brand Repaired\n",
              "73842        sedan    auto   other   petrol           opel       no\n",
              "83266          bus  manual  sharan   petrol     volkswagen       no\n",
              "342028       small  manual   corsa   petrol           opel       no\n",
              "52198        small  manual  fiesta      lpg           ford       no\n",
              "160299       sedan    auto   other   petrol  mercedes_benz       no"
            ],
            "text/html": [
              "\n",
              "  <div id=\"df-acc0e7d0-4c67-42dd-96ef-e52972185aa1\">\n",
              "    <div class=\"colab-df-container\">\n",
              "      <div>\n",
              "<style scoped>\n",
              "    .dataframe tbody tr th:only-of-type {\n",
              "        vertical-align: middle;\n",
              "    }\n",
              "\n",
              "    .dataframe tbody tr th {\n",
              "        vertical-align: top;\n",
              "    }\n",
              "\n",
              "    .dataframe thead th {\n",
              "        text-align: right;\n",
              "    }\n",
              "</style>\n",
              "<table border=\"1\" class=\"dataframe\">\n",
              "  <thead>\n",
              "    <tr style=\"text-align: right;\">\n",
              "      <th></th>\n",
              "      <th>VehicleType</th>\n",
              "      <th>Gearbox</th>\n",
              "      <th>Model</th>\n",
              "      <th>FuelType</th>\n",
              "      <th>Brand</th>\n",
              "      <th>Repaired</th>\n",
              "    </tr>\n",
              "  </thead>\n",
              "  <tbody>\n",
              "    <tr>\n",
              "      <th>73842</th>\n",
              "      <td>sedan</td>\n",
              "      <td>auto</td>\n",
              "      <td>other</td>\n",
              "      <td>petrol</td>\n",
              "      <td>opel</td>\n",
              "      <td>no</td>\n",
              "    </tr>\n",
              "    <tr>\n",
              "      <th>83266</th>\n",
              "      <td>bus</td>\n",
              "      <td>manual</td>\n",
              "      <td>sharan</td>\n",
              "      <td>petrol</td>\n",
              "      <td>volkswagen</td>\n",
              "      <td>no</td>\n",
              "    </tr>\n",
              "    <tr>\n",
              "      <th>342028</th>\n",
              "      <td>small</td>\n",
              "      <td>manual</td>\n",
              "      <td>corsa</td>\n",
              "      <td>petrol</td>\n",
              "      <td>opel</td>\n",
              "      <td>no</td>\n",
              "    </tr>\n",
              "    <tr>\n",
              "      <th>52198</th>\n",
              "      <td>small</td>\n",
              "      <td>manual</td>\n",
              "      <td>fiesta</td>\n",
              "      <td>lpg</td>\n",
              "      <td>ford</td>\n",
              "      <td>no</td>\n",
              "    </tr>\n",
              "    <tr>\n",
              "      <th>160299</th>\n",
              "      <td>sedan</td>\n",
              "      <td>auto</td>\n",
              "      <td>other</td>\n",
              "      <td>petrol</td>\n",
              "      <td>mercedes_benz</td>\n",
              "      <td>no</td>\n",
              "    </tr>\n",
              "  </tbody>\n",
              "</table>\n",
              "</div>\n",
              "      <button class=\"colab-df-convert\" onclick=\"convertToInteractive('df-acc0e7d0-4c67-42dd-96ef-e52972185aa1')\"\n",
              "              title=\"Convert this dataframe to an interactive table.\"\n",
              "              style=\"display:none;\">\n",
              "        \n",
              "  <svg xmlns=\"http://www.w3.org/2000/svg\" height=\"24px\"viewBox=\"0 0 24 24\"\n",
              "       width=\"24px\">\n",
              "    <path d=\"M0 0h24v24H0V0z\" fill=\"none\"/>\n",
              "    <path d=\"M18.56 5.44l.94 2.06.94-2.06 2.06-.94-2.06-.94-.94-2.06-.94 2.06-2.06.94zm-11 1L8.5 8.5l.94-2.06 2.06-.94-2.06-.94L8.5 2.5l-.94 2.06-2.06.94zm10 10l.94 2.06.94-2.06 2.06-.94-2.06-.94-.94-2.06-.94 2.06-2.06.94z\"/><path d=\"M17.41 7.96l-1.37-1.37c-.4-.4-.92-.59-1.43-.59-.52 0-1.04.2-1.43.59L10.3 9.45l-7.72 7.72c-.78.78-.78 2.05 0 2.83L4 21.41c.39.39.9.59 1.41.59.51 0 1.02-.2 1.41-.59l7.78-7.78 2.81-2.81c.8-.78.8-2.07 0-2.86zM5.41 20L4 18.59l7.72-7.72 1.47 1.35L5.41 20z\"/>\n",
              "  </svg>\n",
              "      </button>\n",
              "      \n",
              "  <style>\n",
              "    .colab-df-container {\n",
              "      display:flex;\n",
              "      flex-wrap:wrap;\n",
              "      gap: 12px;\n",
              "    }\n",
              "\n",
              "    .colab-df-convert {\n",
              "      background-color: #E8F0FE;\n",
              "      border: none;\n",
              "      border-radius: 50%;\n",
              "      cursor: pointer;\n",
              "      display: none;\n",
              "      fill: #1967D2;\n",
              "      height: 32px;\n",
              "      padding: 0 0 0 0;\n",
              "      width: 32px;\n",
              "    }\n",
              "\n",
              "    .colab-df-convert:hover {\n",
              "      background-color: #E2EBFA;\n",
              "      box-shadow: 0px 1px 2px rgba(60, 64, 67, 0.3), 0px 1px 3px 1px rgba(60, 64, 67, 0.15);\n",
              "      fill: #174EA6;\n",
              "    }\n",
              "\n",
              "    [theme=dark] .colab-df-convert {\n",
              "      background-color: #3B4455;\n",
              "      fill: #D2E3FC;\n",
              "    }\n",
              "\n",
              "    [theme=dark] .colab-df-convert:hover {\n",
              "      background-color: #434B5C;\n",
              "      box-shadow: 0px 1px 3px 1px rgba(0, 0, 0, 0.15);\n",
              "      filter: drop-shadow(0px 1px 2px rgba(0, 0, 0, 0.3));\n",
              "      fill: #FFFFFF;\n",
              "    }\n",
              "  </style>\n",
              "\n",
              "      <script>\n",
              "        const buttonEl =\n",
              "          document.querySelector('#df-acc0e7d0-4c67-42dd-96ef-e52972185aa1 button.colab-df-convert');\n",
              "        buttonEl.style.display =\n",
              "          google.colab.kernel.accessAllowed ? 'block' : 'none';\n",
              "\n",
              "        async function convertToInteractive(key) {\n",
              "          const element = document.querySelector('#df-acc0e7d0-4c67-42dd-96ef-e52972185aa1');\n",
              "          const dataTable =\n",
              "            await google.colab.kernel.invokeFunction('convertToInteractive',\n",
              "                                                     [key], {});\n",
              "          if (!dataTable) return;\n",
              "\n",
              "          const docLinkHtml = 'Like what you see? Visit the ' +\n",
              "            '<a target=\"_blank\" href=https://colab.research.google.com/notebooks/data_table.ipynb>data table notebook</a>'\n",
              "            + ' to learn more about interactive tables.';\n",
              "          element.innerHTML = '';\n",
              "          dataTable['output_type'] = 'display_data';\n",
              "          await google.colab.output.renderOutput(dataTable, element);\n",
              "          const docLink = document.createElement('div');\n",
              "          docLink.innerHTML = docLinkHtml;\n",
              "          element.appendChild(docLink);\n",
              "        }\n",
              "      </script>\n",
              "    </div>\n",
              "  </div>\n",
              "  "
            ]
          },
          "metadata": {}
        },
        {
          "output_type": "display_data",
          "data": {
            "text/plain": [
              "        RegistrationYear  Power  Kilometer  RegistrationMonth  PostalCode  \\\n",
              "73842               1975    130      90000                  3       15732   \n",
              "83266               1997    175     150000                  4       27386   \n",
              "342028              2005     58     125000                  5       27442   \n",
              "52198               2013     60      50000                  7       40885   \n",
              "160299              1982    136     150000                 10       74564   \n",
              "\n",
              "        ad_lifetime  \n",
              "73842            19  \n",
              "83266            12  \n",
              "342028            6  \n",
              "52198            30  \n",
              "160299            7  "
            ],
            "text/html": [
              "\n",
              "  <div id=\"df-6d587b36-c3f2-4e71-b72e-e25f4dfe978f\">\n",
              "    <div class=\"colab-df-container\">\n",
              "      <div>\n",
              "<style scoped>\n",
              "    .dataframe tbody tr th:only-of-type {\n",
              "        vertical-align: middle;\n",
              "    }\n",
              "\n",
              "    .dataframe tbody tr th {\n",
              "        vertical-align: top;\n",
              "    }\n",
              "\n",
              "    .dataframe thead th {\n",
              "        text-align: right;\n",
              "    }\n",
              "</style>\n",
              "<table border=\"1\" class=\"dataframe\">\n",
              "  <thead>\n",
              "    <tr style=\"text-align: right;\">\n",
              "      <th></th>\n",
              "      <th>RegistrationYear</th>\n",
              "      <th>Power</th>\n",
              "      <th>Kilometer</th>\n",
              "      <th>RegistrationMonth</th>\n",
              "      <th>PostalCode</th>\n",
              "      <th>ad_lifetime</th>\n",
              "    </tr>\n",
              "  </thead>\n",
              "  <tbody>\n",
              "    <tr>\n",
              "      <th>73842</th>\n",
              "      <td>1975</td>\n",
              "      <td>130</td>\n",
              "      <td>90000</td>\n",
              "      <td>3</td>\n",
              "      <td>15732</td>\n",
              "      <td>19</td>\n",
              "    </tr>\n",
              "    <tr>\n",
              "      <th>83266</th>\n",
              "      <td>1997</td>\n",
              "      <td>175</td>\n",
              "      <td>150000</td>\n",
              "      <td>4</td>\n",
              "      <td>27386</td>\n",
              "      <td>12</td>\n",
              "    </tr>\n",
              "    <tr>\n",
              "      <th>342028</th>\n",
              "      <td>2005</td>\n",
              "      <td>58</td>\n",
              "      <td>125000</td>\n",
              "      <td>5</td>\n",
              "      <td>27442</td>\n",
              "      <td>6</td>\n",
              "    </tr>\n",
              "    <tr>\n",
              "      <th>52198</th>\n",
              "      <td>2013</td>\n",
              "      <td>60</td>\n",
              "      <td>50000</td>\n",
              "      <td>7</td>\n",
              "      <td>40885</td>\n",
              "      <td>30</td>\n",
              "    </tr>\n",
              "    <tr>\n",
              "      <th>160299</th>\n",
              "      <td>1982</td>\n",
              "      <td>136</td>\n",
              "      <td>150000</td>\n",
              "      <td>10</td>\n",
              "      <td>74564</td>\n",
              "      <td>7</td>\n",
              "    </tr>\n",
              "  </tbody>\n",
              "</table>\n",
              "</div>\n",
              "      <button class=\"colab-df-convert\" onclick=\"convertToInteractive('df-6d587b36-c3f2-4e71-b72e-e25f4dfe978f')\"\n",
              "              title=\"Convert this dataframe to an interactive table.\"\n",
              "              style=\"display:none;\">\n",
              "        \n",
              "  <svg xmlns=\"http://www.w3.org/2000/svg\" height=\"24px\"viewBox=\"0 0 24 24\"\n",
              "       width=\"24px\">\n",
              "    <path d=\"M0 0h24v24H0V0z\" fill=\"none\"/>\n",
              "    <path d=\"M18.56 5.44l.94 2.06.94-2.06 2.06-.94-2.06-.94-.94-2.06-.94 2.06-2.06.94zm-11 1L8.5 8.5l.94-2.06 2.06-.94-2.06-.94L8.5 2.5l-.94 2.06-2.06.94zm10 10l.94 2.06.94-2.06 2.06-.94-2.06-.94-.94-2.06-.94 2.06-2.06.94z\"/><path d=\"M17.41 7.96l-1.37-1.37c-.4-.4-.92-.59-1.43-.59-.52 0-1.04.2-1.43.59L10.3 9.45l-7.72 7.72c-.78.78-.78 2.05 0 2.83L4 21.41c.39.39.9.59 1.41.59.51 0 1.02-.2 1.41-.59l7.78-7.78 2.81-2.81c.8-.78.8-2.07 0-2.86zM5.41 20L4 18.59l7.72-7.72 1.47 1.35L5.41 20z\"/>\n",
              "  </svg>\n",
              "      </button>\n",
              "      \n",
              "  <style>\n",
              "    .colab-df-container {\n",
              "      display:flex;\n",
              "      flex-wrap:wrap;\n",
              "      gap: 12px;\n",
              "    }\n",
              "\n",
              "    .colab-df-convert {\n",
              "      background-color: #E8F0FE;\n",
              "      border: none;\n",
              "      border-radius: 50%;\n",
              "      cursor: pointer;\n",
              "      display: none;\n",
              "      fill: #1967D2;\n",
              "      height: 32px;\n",
              "      padding: 0 0 0 0;\n",
              "      width: 32px;\n",
              "    }\n",
              "\n",
              "    .colab-df-convert:hover {\n",
              "      background-color: #E2EBFA;\n",
              "      box-shadow: 0px 1px 2px rgba(60, 64, 67, 0.3), 0px 1px 3px 1px rgba(60, 64, 67, 0.15);\n",
              "      fill: #174EA6;\n",
              "    }\n",
              "\n",
              "    [theme=dark] .colab-df-convert {\n",
              "      background-color: #3B4455;\n",
              "      fill: #D2E3FC;\n",
              "    }\n",
              "\n",
              "    [theme=dark] .colab-df-convert:hover {\n",
              "      background-color: #434B5C;\n",
              "      box-shadow: 0px 1px 3px 1px rgba(0, 0, 0, 0.15);\n",
              "      filter: drop-shadow(0px 1px 2px rgba(0, 0, 0, 0.3));\n",
              "      fill: #FFFFFF;\n",
              "    }\n",
              "  </style>\n",
              "\n",
              "      <script>\n",
              "        const buttonEl =\n",
              "          document.querySelector('#df-6d587b36-c3f2-4e71-b72e-e25f4dfe978f button.colab-df-convert');\n",
              "        buttonEl.style.display =\n",
              "          google.colab.kernel.accessAllowed ? 'block' : 'none';\n",
              "\n",
              "        async function convertToInteractive(key) {\n",
              "          const element = document.querySelector('#df-6d587b36-c3f2-4e71-b72e-e25f4dfe978f');\n",
              "          const dataTable =\n",
              "            await google.colab.kernel.invokeFunction('convertToInteractive',\n",
              "                                                     [key], {});\n",
              "          if (!dataTable) return;\n",
              "\n",
              "          const docLinkHtml = 'Like what you see? Visit the ' +\n",
              "            '<a target=\"_blank\" href=https://colab.research.google.com/notebooks/data_table.ipynb>data table notebook</a>'\n",
              "            + ' to learn more about interactive tables.';\n",
              "          element.innerHTML = '';\n",
              "          dataTable['output_type'] = 'display_data';\n",
              "          await google.colab.output.renderOutput(dataTable, element);\n",
              "          const docLink = document.createElement('div');\n",
              "          docLink.innerHTML = docLinkHtml;\n",
              "          element.appendChild(docLink);\n",
              "        }\n",
              "      </script>\n",
              "    </div>\n",
              "  </div>\n",
              "  "
            ]
          },
          "metadata": {}
        },
        {
          "output_type": "execute_result",
          "data": {
            "text/plain": [
              "(None, None)"
            ]
          },
          "metadata": {},
          "execution_count": 23
        }
      ]
    },
    {
      "cell_type": "code",
      "execution_count": 24,
      "metadata": {
        "id": "xKseevyV_PyW"
      },
      "outputs": [],
      "source": [
        "col_transformer = make_column_transformer(\n",
        "    (\n",
        "        OrdinalEncoder(handle_unknown='use_encoded_value', unknown_value=-1),\n",
        "        cat_features\n",
        "    ),\n",
        "    (\n",
        "        StandardScaler(), \n",
        "        num_features\n",
        "    ),\n",
        "    remainder='passthrough',\n",
        "    verbose_feature_names_out=False\n",
        ")"
      ]
    },
    {
      "cell_type": "markdown",
      "metadata": {
        "id": "mhalnfnA_PyX"
      },
      "source": [
        "## Building and training"
      ]
    },
    {
      "cell_type": "markdown",
      "source": [
        "Let's build three models Ridge, LGBMRegressor and CatBoostRegressor using a pipeline and their own categorical feature encoders."
      ],
      "metadata": {
        "id": "b26UUfehyJmO"
      }
    },
    {
      "cell_type": "markdown",
      "metadata": {
        "id": "JQONY9UP_PyX"
      },
      "source": [
        "### Ridge"
      ]
    },
    {
      "cell_type": "code",
      "execution_count": 25,
      "metadata": {
        "id": "CtQkjs0__PyX",
        "colab": {
          "base_uri": "https://localhost:8080/",
          "height": 81
        },
        "outputId": "d1d176fa-e9ea-475c-e888-a4f274016bb4"
      },
      "outputs": [
        {
          "output_type": "execute_result",
          "data": {
            "text/plain": [
              "   mean_fit_time  mean_score_time               params  mean_test_score\n",
              "8       0.629016          0.13155  {'ridge__alpha': 9}     -3176.161765"
            ],
            "text/html": [
              "\n",
              "  <div id=\"df-11e12c03-b25f-4775-a00e-2548be5036fc\">\n",
              "    <div class=\"colab-df-container\">\n",
              "      <div>\n",
              "<style scoped>\n",
              "    .dataframe tbody tr th:only-of-type {\n",
              "        vertical-align: middle;\n",
              "    }\n",
              "\n",
              "    .dataframe tbody tr th {\n",
              "        vertical-align: top;\n",
              "    }\n",
              "\n",
              "    .dataframe thead th {\n",
              "        text-align: right;\n",
              "    }\n",
              "</style>\n",
              "<table border=\"1\" class=\"dataframe\">\n",
              "  <thead>\n",
              "    <tr style=\"text-align: right;\">\n",
              "      <th></th>\n",
              "      <th>mean_fit_time</th>\n",
              "      <th>mean_score_time</th>\n",
              "      <th>params</th>\n",
              "      <th>mean_test_score</th>\n",
              "    </tr>\n",
              "  </thead>\n",
              "  <tbody>\n",
              "    <tr>\n",
              "      <th>8</th>\n",
              "      <td>0.629016</td>\n",
              "      <td>0.13155</td>\n",
              "      <td>{'ridge__alpha': 9}</td>\n",
              "      <td>-3176.161765</td>\n",
              "    </tr>\n",
              "  </tbody>\n",
              "</table>\n",
              "</div>\n",
              "      <button class=\"colab-df-convert\" onclick=\"convertToInteractive('df-11e12c03-b25f-4775-a00e-2548be5036fc')\"\n",
              "              title=\"Convert this dataframe to an interactive table.\"\n",
              "              style=\"display:none;\">\n",
              "        \n",
              "  <svg xmlns=\"http://www.w3.org/2000/svg\" height=\"24px\"viewBox=\"0 0 24 24\"\n",
              "       width=\"24px\">\n",
              "    <path d=\"M0 0h24v24H0V0z\" fill=\"none\"/>\n",
              "    <path d=\"M18.56 5.44l.94 2.06.94-2.06 2.06-.94-2.06-.94-.94-2.06-.94 2.06-2.06.94zm-11 1L8.5 8.5l.94-2.06 2.06-.94-2.06-.94L8.5 2.5l-.94 2.06-2.06.94zm10 10l.94 2.06.94-2.06 2.06-.94-2.06-.94-.94-2.06-.94 2.06-2.06.94z\"/><path d=\"M17.41 7.96l-1.37-1.37c-.4-.4-.92-.59-1.43-.59-.52 0-1.04.2-1.43.59L10.3 9.45l-7.72 7.72c-.78.78-.78 2.05 0 2.83L4 21.41c.39.39.9.59 1.41.59.51 0 1.02-.2 1.41-.59l7.78-7.78 2.81-2.81c.8-.78.8-2.07 0-2.86zM5.41 20L4 18.59l7.72-7.72 1.47 1.35L5.41 20z\"/>\n",
              "  </svg>\n",
              "      </button>\n",
              "      \n",
              "  <style>\n",
              "    .colab-df-container {\n",
              "      display:flex;\n",
              "      flex-wrap:wrap;\n",
              "      gap: 12px;\n",
              "    }\n",
              "\n",
              "    .colab-df-convert {\n",
              "      background-color: #E8F0FE;\n",
              "      border: none;\n",
              "      border-radius: 50%;\n",
              "      cursor: pointer;\n",
              "      display: none;\n",
              "      fill: #1967D2;\n",
              "      height: 32px;\n",
              "      padding: 0 0 0 0;\n",
              "      width: 32px;\n",
              "    }\n",
              "\n",
              "    .colab-df-convert:hover {\n",
              "      background-color: #E2EBFA;\n",
              "      box-shadow: 0px 1px 2px rgba(60, 64, 67, 0.3), 0px 1px 3px 1px rgba(60, 64, 67, 0.15);\n",
              "      fill: #174EA6;\n",
              "    }\n",
              "\n",
              "    [theme=dark] .colab-df-convert {\n",
              "      background-color: #3B4455;\n",
              "      fill: #D2E3FC;\n",
              "    }\n",
              "\n",
              "    [theme=dark] .colab-df-convert:hover {\n",
              "      background-color: #434B5C;\n",
              "      box-shadow: 0px 1px 3px 1px rgba(0, 0, 0, 0.15);\n",
              "      filter: drop-shadow(0px 1px 2px rgba(0, 0, 0, 0.3));\n",
              "      fill: #FFFFFF;\n",
              "    }\n",
              "  </style>\n",
              "\n",
              "      <script>\n",
              "        const buttonEl =\n",
              "          document.querySelector('#df-11e12c03-b25f-4775-a00e-2548be5036fc button.colab-df-convert');\n",
              "        buttonEl.style.display =\n",
              "          google.colab.kernel.accessAllowed ? 'block' : 'none';\n",
              "\n",
              "        async function convertToInteractive(key) {\n",
              "          const element = document.querySelector('#df-11e12c03-b25f-4775-a00e-2548be5036fc');\n",
              "          const dataTable =\n",
              "            await google.colab.kernel.invokeFunction('convertToInteractive',\n",
              "                                                     [key], {});\n",
              "          if (!dataTable) return;\n",
              "\n",
              "          const docLinkHtml = 'Like what you see? Visit the ' +\n",
              "            '<a target=\"_blank\" href=https://colab.research.google.com/notebooks/data_table.ipynb>data table notebook</a>'\n",
              "            + ' to learn more about interactive tables.';\n",
              "          element.innerHTML = '';\n",
              "          dataTable['output_type'] = 'display_data';\n",
              "          await google.colab.output.renderOutput(dataTable, element);\n",
              "          const docLink = document.createElement('div');\n",
              "          docLink.innerHTML = docLinkHtml;\n",
              "          element.appendChild(docLink);\n",
              "        }\n",
              "      </script>\n",
              "    </div>\n",
              "  </div>\n",
              "  "
            ]
          },
          "metadata": {},
          "execution_count": 25
        }
      ],
      "source": [
        "rd = Ridge(random_state=RANDOM_STATE)\n",
        "param_grid_rd = {'ridge__alpha': range(1, 10)}\n",
        "\n",
        "pipeline_rd = make_pipeline(col_transformer, rd)\n",
        "grid_search_rd = GridSearchCV(estimator=pipeline_rd, \n",
        "                                    param_grid=param_grid_rd,\n",
        "                                    scoring='neg_root_mean_squared_error',\n",
        "                                    cv = 5,\n",
        "                                    n_jobs = -1)\n",
        "grid_search_rd.fit(X_train, y_train)\n",
        "best_param_rd = pd.DataFrame(grid_search_rd.cv_results_).sort_values(by='rank_test_score').head(1)\n",
        "best_param_rd = best_param_rd[['mean_fit_time', 'mean_score_time', 'params', 'mean_test_score']]\n",
        "best_param_rd"
      ]
    },
    {
      "cell_type": "markdown",
      "metadata": {
        "id": "rdHEiEIu_Py5"
      },
      "source": [
        "### LGBMRegressor"
      ]
    },
    {
      "cell_type": "code",
      "source": [
        "lgbr = LGBMRegressor(random_state=RANDOM_STATE)\n",
        "param_grid_lgbr = {'n_estimators': [100, 200, 300],\n",
        "                   'max_depth': [3, 5, 7],\n",
        "                   'learning_rate': [0.1, 0.3]}\n",
        "\n",
        "X_train[cat_features] = X_train[cat_features].astype('category')\n",
        "\n",
        "grid_search_lgbr = GridSearchCV(estimator = lgbr, \n",
        "                              param_grid = param_grid_lgbr, \n",
        "                              scoring='neg_root_mean_squared_error', \n",
        "                              cv = 5, \n",
        "                              n_jobs = -1)\n",
        "grid_search_lgbr.fit(X_train, y_train)\n",
        "best_param_lgbr = pd.DataFrame(grid_search_lgbr.cv_results_).sort_values(by='rank_test_score').head(1)\n",
        "best_param_lgbr = best_param_lgbr[['mean_fit_time', 'mean_score_time', 'params', 'mean_test_score']]\n",
        "best_param_lgbr"
      ],
      "metadata": {
        "colab": {
          "base_uri": "https://localhost:8080/",
          "height": 81
        },
        "id": "vgrh1QG98xnR",
        "outputId": "1455ed3f-a2c4-431b-f470-d418c50c6bf4"
      },
      "execution_count": 26,
      "outputs": [
        {
          "output_type": "execute_result",
          "data": {
            "text/plain": [
              "    mean_fit_time  mean_score_time  \\\n",
              "17       6.863362         1.459509   \n",
              "\n",
              "                                               params  mean_test_score  \n",
              "17  {'learning_rate': 0.3, 'max_depth': 7, 'n_esti...     -1577.220215  "
            ],
            "text/html": [
              "\n",
              "  <div id=\"df-b170c8a3-75c5-45d8-932e-b72f94961f3c\">\n",
              "    <div class=\"colab-df-container\">\n",
              "      <div>\n",
              "<style scoped>\n",
              "    .dataframe tbody tr th:only-of-type {\n",
              "        vertical-align: middle;\n",
              "    }\n",
              "\n",
              "    .dataframe tbody tr th {\n",
              "        vertical-align: top;\n",
              "    }\n",
              "\n",
              "    .dataframe thead th {\n",
              "        text-align: right;\n",
              "    }\n",
              "</style>\n",
              "<table border=\"1\" class=\"dataframe\">\n",
              "  <thead>\n",
              "    <tr style=\"text-align: right;\">\n",
              "      <th></th>\n",
              "      <th>mean_fit_time</th>\n",
              "      <th>mean_score_time</th>\n",
              "      <th>params</th>\n",
              "      <th>mean_test_score</th>\n",
              "    </tr>\n",
              "  </thead>\n",
              "  <tbody>\n",
              "    <tr>\n",
              "      <th>17</th>\n",
              "      <td>6.863362</td>\n",
              "      <td>1.459509</td>\n",
              "      <td>{'learning_rate': 0.3, 'max_depth': 7, 'n_esti...</td>\n",
              "      <td>-1577.220215</td>\n",
              "    </tr>\n",
              "  </tbody>\n",
              "</table>\n",
              "</div>\n",
              "      <button class=\"colab-df-convert\" onclick=\"convertToInteractive('df-b170c8a3-75c5-45d8-932e-b72f94961f3c')\"\n",
              "              title=\"Convert this dataframe to an interactive table.\"\n",
              "              style=\"display:none;\">\n",
              "        \n",
              "  <svg xmlns=\"http://www.w3.org/2000/svg\" height=\"24px\"viewBox=\"0 0 24 24\"\n",
              "       width=\"24px\">\n",
              "    <path d=\"M0 0h24v24H0V0z\" fill=\"none\"/>\n",
              "    <path d=\"M18.56 5.44l.94 2.06.94-2.06 2.06-.94-2.06-.94-.94-2.06-.94 2.06-2.06.94zm-11 1L8.5 8.5l.94-2.06 2.06-.94-2.06-.94L8.5 2.5l-.94 2.06-2.06.94zm10 10l.94 2.06.94-2.06 2.06-.94-2.06-.94-.94-2.06-.94 2.06-2.06.94z\"/><path d=\"M17.41 7.96l-1.37-1.37c-.4-.4-.92-.59-1.43-.59-.52 0-1.04.2-1.43.59L10.3 9.45l-7.72 7.72c-.78.78-.78 2.05 0 2.83L4 21.41c.39.39.9.59 1.41.59.51 0 1.02-.2 1.41-.59l7.78-7.78 2.81-2.81c.8-.78.8-2.07 0-2.86zM5.41 20L4 18.59l7.72-7.72 1.47 1.35L5.41 20z\"/>\n",
              "  </svg>\n",
              "      </button>\n",
              "      \n",
              "  <style>\n",
              "    .colab-df-container {\n",
              "      display:flex;\n",
              "      flex-wrap:wrap;\n",
              "      gap: 12px;\n",
              "    }\n",
              "\n",
              "    .colab-df-convert {\n",
              "      background-color: #E8F0FE;\n",
              "      border: none;\n",
              "      border-radius: 50%;\n",
              "      cursor: pointer;\n",
              "      display: none;\n",
              "      fill: #1967D2;\n",
              "      height: 32px;\n",
              "      padding: 0 0 0 0;\n",
              "      width: 32px;\n",
              "    }\n",
              "\n",
              "    .colab-df-convert:hover {\n",
              "      background-color: #E2EBFA;\n",
              "      box-shadow: 0px 1px 2px rgba(60, 64, 67, 0.3), 0px 1px 3px 1px rgba(60, 64, 67, 0.15);\n",
              "      fill: #174EA6;\n",
              "    }\n",
              "\n",
              "    [theme=dark] .colab-df-convert {\n",
              "      background-color: #3B4455;\n",
              "      fill: #D2E3FC;\n",
              "    }\n",
              "\n",
              "    [theme=dark] .colab-df-convert:hover {\n",
              "      background-color: #434B5C;\n",
              "      box-shadow: 0px 1px 3px 1px rgba(0, 0, 0, 0.15);\n",
              "      filter: drop-shadow(0px 1px 2px rgba(0, 0, 0, 0.3));\n",
              "      fill: #FFFFFF;\n",
              "    }\n",
              "  </style>\n",
              "\n",
              "      <script>\n",
              "        const buttonEl =\n",
              "          document.querySelector('#df-b170c8a3-75c5-45d8-932e-b72f94961f3c button.colab-df-convert');\n",
              "        buttonEl.style.display =\n",
              "          google.colab.kernel.accessAllowed ? 'block' : 'none';\n",
              "\n",
              "        async function convertToInteractive(key) {\n",
              "          const element = document.querySelector('#df-b170c8a3-75c5-45d8-932e-b72f94961f3c');\n",
              "          const dataTable =\n",
              "            await google.colab.kernel.invokeFunction('convertToInteractive',\n",
              "                                                     [key], {});\n",
              "          if (!dataTable) return;\n",
              "\n",
              "          const docLinkHtml = 'Like what you see? Visit the ' +\n",
              "            '<a target=\"_blank\" href=https://colab.research.google.com/notebooks/data_table.ipynb>data table notebook</a>'\n",
              "            + ' to learn more about interactive tables.';\n",
              "          element.innerHTML = '';\n",
              "          dataTable['output_type'] = 'display_data';\n",
              "          await google.colab.output.renderOutput(dataTable, element);\n",
              "          const docLink = document.createElement('div');\n",
              "          docLink.innerHTML = docLinkHtml;\n",
              "          element.appendChild(docLink);\n",
              "        }\n",
              "      </script>\n",
              "    </div>\n",
              "  </div>\n",
              "  "
            ]
          },
          "metadata": {},
          "execution_count": 26
        }
      ]
    },
    {
      "cell_type": "markdown",
      "metadata": {
        "id": "gdlk2R4y_Py-"
      },
      "source": [
        "### CatBoostRegressor"
      ]
    },
    {
      "cell_type": "code",
      "execution_count": 27,
      "metadata": {
        "id": "3MUbufaE_PzC",
        "colab": {
          "base_uri": "https://localhost:8080/",
          "height": 136
        },
        "outputId": "1167c03e-7b80-4706-d0f8-fba20450c271"
      },
      "outputs": [
        {
          "metadata": {
            "tags": null
          },
          "name": "stderr",
          "output_type": "stream",
          "text": [
            "/usr/local/lib/python3.10/dist-packages/joblib/externals/loky/process_executor.py:700: UserWarning: A worker stopped while some jobs were given to the executor. This can be caused by a too short worker timeout or by a memory leak.\n",
            "  warnings.warn(\n"
          ]
        },
        {
          "output_type": "execute_result",
          "data": {
            "text/plain": [
              "    mean_fit_time  mean_score_time  \\\n",
              "17     169.032273         0.358586   \n",
              "\n",
              "                                               params  mean_test_score  \n",
              "17  {'learning_rate': 0.3, 'max_depth': 7, 'n_esti...     -1593.421554  "
            ],
            "text/html": [
              "\n",
              "  <div id=\"df-9497d2c0-5902-4e8d-9634-e453be63c4bc\">\n",
              "    <div class=\"colab-df-container\">\n",
              "      <div>\n",
              "<style scoped>\n",
              "    .dataframe tbody tr th:only-of-type {\n",
              "        vertical-align: middle;\n",
              "    }\n",
              "\n",
              "    .dataframe tbody tr th {\n",
              "        vertical-align: top;\n",
              "    }\n",
              "\n",
              "    .dataframe thead th {\n",
              "        text-align: right;\n",
              "    }\n",
              "</style>\n",
              "<table border=\"1\" class=\"dataframe\">\n",
              "  <thead>\n",
              "    <tr style=\"text-align: right;\">\n",
              "      <th></th>\n",
              "      <th>mean_fit_time</th>\n",
              "      <th>mean_score_time</th>\n",
              "      <th>params</th>\n",
              "      <th>mean_test_score</th>\n",
              "    </tr>\n",
              "  </thead>\n",
              "  <tbody>\n",
              "    <tr>\n",
              "      <th>17</th>\n",
              "      <td>169.032273</td>\n",
              "      <td>0.358586</td>\n",
              "      <td>{'learning_rate': 0.3, 'max_depth': 7, 'n_esti...</td>\n",
              "      <td>-1593.421554</td>\n",
              "    </tr>\n",
              "  </tbody>\n",
              "</table>\n",
              "</div>\n",
              "      <button class=\"colab-df-convert\" onclick=\"convertToInteractive('df-9497d2c0-5902-4e8d-9634-e453be63c4bc')\"\n",
              "              title=\"Convert this dataframe to an interactive table.\"\n",
              "              style=\"display:none;\">\n",
              "        \n",
              "  <svg xmlns=\"http://www.w3.org/2000/svg\" height=\"24px\"viewBox=\"0 0 24 24\"\n",
              "       width=\"24px\">\n",
              "    <path d=\"M0 0h24v24H0V0z\" fill=\"none\"/>\n",
              "    <path d=\"M18.56 5.44l.94 2.06.94-2.06 2.06-.94-2.06-.94-.94-2.06-.94 2.06-2.06.94zm-11 1L8.5 8.5l.94-2.06 2.06-.94-2.06-.94L8.5 2.5l-.94 2.06-2.06.94zm10 10l.94 2.06.94-2.06 2.06-.94-2.06-.94-.94-2.06-.94 2.06-2.06.94z\"/><path d=\"M17.41 7.96l-1.37-1.37c-.4-.4-.92-.59-1.43-.59-.52 0-1.04.2-1.43.59L10.3 9.45l-7.72 7.72c-.78.78-.78 2.05 0 2.83L4 21.41c.39.39.9.59 1.41.59.51 0 1.02-.2 1.41-.59l7.78-7.78 2.81-2.81c.8-.78.8-2.07 0-2.86zM5.41 20L4 18.59l7.72-7.72 1.47 1.35L5.41 20z\"/>\n",
              "  </svg>\n",
              "      </button>\n",
              "      \n",
              "  <style>\n",
              "    .colab-df-container {\n",
              "      display:flex;\n",
              "      flex-wrap:wrap;\n",
              "      gap: 12px;\n",
              "    }\n",
              "\n",
              "    .colab-df-convert {\n",
              "      background-color: #E8F0FE;\n",
              "      border: none;\n",
              "      border-radius: 50%;\n",
              "      cursor: pointer;\n",
              "      display: none;\n",
              "      fill: #1967D2;\n",
              "      height: 32px;\n",
              "      padding: 0 0 0 0;\n",
              "      width: 32px;\n",
              "    }\n",
              "\n",
              "    .colab-df-convert:hover {\n",
              "      background-color: #E2EBFA;\n",
              "      box-shadow: 0px 1px 2px rgba(60, 64, 67, 0.3), 0px 1px 3px 1px rgba(60, 64, 67, 0.15);\n",
              "      fill: #174EA6;\n",
              "    }\n",
              "\n",
              "    [theme=dark] .colab-df-convert {\n",
              "      background-color: #3B4455;\n",
              "      fill: #D2E3FC;\n",
              "    }\n",
              "\n",
              "    [theme=dark] .colab-df-convert:hover {\n",
              "      background-color: #434B5C;\n",
              "      box-shadow: 0px 1px 3px 1px rgba(0, 0, 0, 0.15);\n",
              "      filter: drop-shadow(0px 1px 2px rgba(0, 0, 0, 0.3));\n",
              "      fill: #FFFFFF;\n",
              "    }\n",
              "  </style>\n",
              "\n",
              "      <script>\n",
              "        const buttonEl =\n",
              "          document.querySelector('#df-9497d2c0-5902-4e8d-9634-e453be63c4bc button.colab-df-convert');\n",
              "        buttonEl.style.display =\n",
              "          google.colab.kernel.accessAllowed ? 'block' : 'none';\n",
              "\n",
              "        async function convertToInteractive(key) {\n",
              "          const element = document.querySelector('#df-9497d2c0-5902-4e8d-9634-e453be63c4bc');\n",
              "          const dataTable =\n",
              "            await google.colab.kernel.invokeFunction('convertToInteractive',\n",
              "                                                     [key], {});\n",
              "          if (!dataTable) return;\n",
              "\n",
              "          const docLinkHtml = 'Like what you see? Visit the ' +\n",
              "            '<a target=\"_blank\" href=https://colab.research.google.com/notebooks/data_table.ipynb>data table notebook</a>'\n",
              "            + ' to learn more about interactive tables.';\n",
              "          element.innerHTML = '';\n",
              "          dataTable['output_type'] = 'display_data';\n",
              "          await google.colab.output.renderOutput(dataTable, element);\n",
              "          const docLink = document.createElement('div');\n",
              "          docLink.innerHTML = docLinkHtml;\n",
              "          element.appendChild(docLink);\n",
              "        }\n",
              "      </script>\n",
              "    </div>\n",
              "  </div>\n",
              "  "
            ]
          },
          "metadata": {},
          "execution_count": 27
        }
      ],
      "source": [
        "ctbr = CatBoostRegressor(cat_features=cat_features, random_state=RANDOM_STATE, verbose=False)\n",
        "param_grid_ctbr = {'n_estimators': [100, 200, 300],\n",
        "                   'max_depth': [3, 5, 7],\n",
        "                   'learning_rate': [0.1, 0.3]}\n",
        "grid_search_ctbr = GridSearchCV(estimator = ctbr, \n",
        "                              param_grid = param_grid_ctbr, \n",
        "                              scoring='neg_root_mean_squared_error', \n",
        "                              cv = 5, \n",
        "                              n_jobs = -1)\n",
        "grid_search_ctbr.fit(X_train, y_train)\n",
        "best_param_ctbr = pd.DataFrame(grid_search_ctbr.cv_results_).sort_values(by='rank_test_score').head(1)\n",
        "best_param_ctbr = best_param_ctbr[['mean_fit_time', 'mean_score_time', 'params', 'mean_test_score']]\n",
        "best_param_ctbr"
      ]
    },
    {
      "cell_type": "markdown",
      "metadata": {
        "id": "AL_u0tMv_PzD"
      },
      "source": [
        "## Model analysis"
      ]
    },
    {
      "cell_type": "code",
      "execution_count": 28,
      "metadata": {
        "id": "jLXQTIyJ_PzE",
        "scrolled": true,
        "colab": {
          "base_uri": "https://localhost:8080/",
          "height": 143
        },
        "outputId": "06e22470-8a3e-4f9c-832a-682ba79e2b5c"
      },
      "outputs": [
        {
          "data": {
            "text/html": [
              "\n",
              "  <div id=\"df-729e013c-bddf-417b-bf0d-210e3554807b\">\n",
              "    <div class=\"colab-df-container\">\n",
              "      <div>\n",
              "<style scoped>\n",
              "    .dataframe tbody tr th:only-of-type {\n",
              "        vertical-align: middle;\n",
              "    }\n",
              "\n",
              "    .dataframe tbody tr th {\n",
              "        vertical-align: top;\n",
              "    }\n",
              "\n",
              "    .dataframe thead th {\n",
              "        text-align: right;\n",
              "    }\n",
              "</style>\n",
              "<table border=\"1\" class=\"dataframe\">\n",
              "  <thead>\n",
              "    <tr style=\"text-align: right;\">\n",
              "      <th></th>\n",
              "      <th>mean_fit_time</th>\n",
              "      <th>mean_score_time</th>\n",
              "      <th>params</th>\n",
              "      <th>mean_test_score</th>\n",
              "    </tr>\n",
              "  </thead>\n",
              "  <tbody>\n",
              "    <tr>\n",
              "      <th>Ridge</th>\n",
              "      <td>0.629016</td>\n",
              "      <td>0.131550</td>\n",
              "      <td>{'ridge__alpha': 9}</td>\n",
              "      <td>3176.161765</td>\n",
              "    </tr>\n",
              "    <tr>\n",
              "      <th>LGBMRegressor</th>\n",
              "      <td>6.863362</td>\n",
              "      <td>1.459509</td>\n",
              "      <td>{'learning_rate': 0.3, 'max_depth': 7, 'n_esti...</td>\n",
              "      <td>1577.220215</td>\n",
              "    </tr>\n",
              "    <tr>\n",
              "      <th>CatBoostRegressor</th>\n",
              "      <td>169.032273</td>\n",
              "      <td>0.358586</td>\n",
              "      <td>{'learning_rate': 0.3, 'max_depth': 7, 'n_esti...</td>\n",
              "      <td>1593.421554</td>\n",
              "    </tr>\n",
              "  </tbody>\n",
              "</table>\n",
              "</div>\n",
              "      <button class=\"colab-df-convert\" onclick=\"convertToInteractive('df-729e013c-bddf-417b-bf0d-210e3554807b')\"\n",
              "              title=\"Convert this dataframe to an interactive table.\"\n",
              "              style=\"display:none;\">\n",
              "        \n",
              "  <svg xmlns=\"http://www.w3.org/2000/svg\" height=\"24px\"viewBox=\"0 0 24 24\"\n",
              "       width=\"24px\">\n",
              "    <path d=\"M0 0h24v24H0V0z\" fill=\"none\"/>\n",
              "    <path d=\"M18.56 5.44l.94 2.06.94-2.06 2.06-.94-2.06-.94-.94-2.06-.94 2.06-2.06.94zm-11 1L8.5 8.5l.94-2.06 2.06-.94-2.06-.94L8.5 2.5l-.94 2.06-2.06.94zm10 10l.94 2.06.94-2.06 2.06-.94-2.06-.94-.94-2.06-.94 2.06-2.06.94z\"/><path d=\"M17.41 7.96l-1.37-1.37c-.4-.4-.92-.59-1.43-.59-.52 0-1.04.2-1.43.59L10.3 9.45l-7.72 7.72c-.78.78-.78 2.05 0 2.83L4 21.41c.39.39.9.59 1.41.59.51 0 1.02-.2 1.41-.59l7.78-7.78 2.81-2.81c.8-.78.8-2.07 0-2.86zM5.41 20L4 18.59l7.72-7.72 1.47 1.35L5.41 20z\"/>\n",
              "  </svg>\n",
              "      </button>\n",
              "      \n",
              "  <style>\n",
              "    .colab-df-container {\n",
              "      display:flex;\n",
              "      flex-wrap:wrap;\n",
              "      gap: 12px;\n",
              "    }\n",
              "\n",
              "    .colab-df-convert {\n",
              "      background-color: #E8F0FE;\n",
              "      border: none;\n",
              "      border-radius: 50%;\n",
              "      cursor: pointer;\n",
              "      display: none;\n",
              "      fill: #1967D2;\n",
              "      height: 32px;\n",
              "      padding: 0 0 0 0;\n",
              "      width: 32px;\n",
              "    }\n",
              "\n",
              "    .colab-df-convert:hover {\n",
              "      background-color: #E2EBFA;\n",
              "      box-shadow: 0px 1px 2px rgba(60, 64, 67, 0.3), 0px 1px 3px 1px rgba(60, 64, 67, 0.15);\n",
              "      fill: #174EA6;\n",
              "    }\n",
              "\n",
              "    [theme=dark] .colab-df-convert {\n",
              "      background-color: #3B4455;\n",
              "      fill: #D2E3FC;\n",
              "    }\n",
              "\n",
              "    [theme=dark] .colab-df-convert:hover {\n",
              "      background-color: #434B5C;\n",
              "      box-shadow: 0px 1px 3px 1px rgba(0, 0, 0, 0.15);\n",
              "      filter: drop-shadow(0px 1px 2px rgba(0, 0, 0, 0.3));\n",
              "      fill: #FFFFFF;\n",
              "    }\n",
              "  </style>\n",
              "\n",
              "      <script>\n",
              "        const buttonEl =\n",
              "          document.querySelector('#df-729e013c-bddf-417b-bf0d-210e3554807b button.colab-df-convert');\n",
              "        buttonEl.style.display =\n",
              "          google.colab.kernel.accessAllowed ? 'block' : 'none';\n",
              "\n",
              "        async function convertToInteractive(key) {\n",
              "          const element = document.querySelector('#df-729e013c-bddf-417b-bf0d-210e3554807b');\n",
              "          const dataTable =\n",
              "            await google.colab.kernel.invokeFunction('convertToInteractive',\n",
              "                                                     [key], {});\n",
              "          if (!dataTable) return;\n",
              "\n",
              "          const docLinkHtml = 'Like what you see? Visit the ' +\n",
              "            '<a target=\"_blank\" href=https://colab.research.google.com/notebooks/data_table.ipynb>data table notebook</a>'\n",
              "            + ' to learn more about interactive tables.';\n",
              "          element.innerHTML = '';\n",
              "          dataTable['output_type'] = 'display_data';\n",
              "          await google.colab.output.renderOutput(dataTable, element);\n",
              "          const docLink = document.createElement('div');\n",
              "          docLink.innerHTML = docLinkHtml;\n",
              "          element.appendChild(docLink);\n",
              "        }\n",
              "      </script>\n",
              "    </div>\n",
              "  </div>\n",
              "  "
            ],
            "text/plain": [
              "                   mean_fit_time  mean_score_time  \\\n",
              "Ridge                   0.629016         0.131550   \n",
              "LGBMRegressor           6.863362         1.459509   \n",
              "CatBoostRegressor     169.032273         0.358586   \n",
              "\n",
              "                                                              params  \\\n",
              "Ridge                                            {'ridge__alpha': 9}   \n",
              "LGBMRegressor      {'learning_rate': 0.3, 'max_depth': 7, 'n_esti...   \n",
              "CatBoostRegressor  {'learning_rate': 0.3, 'max_depth': 7, 'n_esti...   \n",
              "\n",
              "                   mean_test_score  \n",
              "Ridge                  3176.161765  \n",
              "LGBMRegressor          1577.220215  \n",
              "CatBoostRegressor      1593.421554  "
            ]
          },
          "execution_count": 28,
          "metadata": {},
          "output_type": "execute_result"
        }
      ],
      "source": [
        "result = pd.concat([best_param_rd, best_param_lgbr, best_param_ctbr], ignore_index=True, axis=0)\n",
        "result.index=['Ridge', 'LGBMRegressor', 'CatBoostRegressor']\n",
        "result.mean_test_score = result.mean_test_score * -1\n",
        "result"
      ]
    },
    {
      "cell_type": "markdown",
      "metadata": {
        "id": "Z4tghNvf_PzG"
      },
      "source": [
        "According to the training results, the LGBMRegressor model showed the best combination of speed and evaluation. Let's look at the importance of features for model training."
      ]
    },
    {
      "cell_type": "code",
      "source": [
        "feature_importance = pd.DataFrame({'Features': X_train.columns,\n",
        "                                   'Importance': grid_search_lgbr.best_estimator_.feature_importances_}).sort_values('Importance', ascending=False)\n",
        "feature_importance"
      ],
      "metadata": {
        "colab": {
          "base_uri": "https://localhost:8080/",
          "height": 426
        },
        "id": "fay2M8fuwRRl",
        "outputId": "92386dbe-24d7-4aae-c5ec-3a09dfdbf9cb"
      },
      "execution_count": 33,
      "outputs": [
        {
          "output_type": "execute_result",
          "data": {
            "text/plain": [
              "             Features  Importance\n",
              "1    RegistrationYear        1666\n",
              "3               Power        1538\n",
              "4               Model        1503\n",
              "10         PostalCode        1105\n",
              "11        ad_lifetime         717\n",
              "5           Kilometer         709\n",
              "6   RegistrationMonth         478\n",
              "8               Brand         432\n",
              "0         VehicleType         364\n",
              "9            Repaired         183\n",
              "2             Gearbox         177\n",
              "7            FuelType         122"
            ],
            "text/html": [
              "\n",
              "  <div id=\"df-505a26aa-ab67-4f52-8e2f-b180550a6e92\">\n",
              "    <div class=\"colab-df-container\">\n",
              "      <div>\n",
              "<style scoped>\n",
              "    .dataframe tbody tr th:only-of-type {\n",
              "        vertical-align: middle;\n",
              "    }\n",
              "\n",
              "    .dataframe tbody tr th {\n",
              "        vertical-align: top;\n",
              "    }\n",
              "\n",
              "    .dataframe thead th {\n",
              "        text-align: right;\n",
              "    }\n",
              "</style>\n",
              "<table border=\"1\" class=\"dataframe\">\n",
              "  <thead>\n",
              "    <tr style=\"text-align: right;\">\n",
              "      <th></th>\n",
              "      <th>Features</th>\n",
              "      <th>Importance</th>\n",
              "    </tr>\n",
              "  </thead>\n",
              "  <tbody>\n",
              "    <tr>\n",
              "      <th>1</th>\n",
              "      <td>RegistrationYear</td>\n",
              "      <td>1666</td>\n",
              "    </tr>\n",
              "    <tr>\n",
              "      <th>3</th>\n",
              "      <td>Power</td>\n",
              "      <td>1538</td>\n",
              "    </tr>\n",
              "    <tr>\n",
              "      <th>4</th>\n",
              "      <td>Model</td>\n",
              "      <td>1503</td>\n",
              "    </tr>\n",
              "    <tr>\n",
              "      <th>10</th>\n",
              "      <td>PostalCode</td>\n",
              "      <td>1105</td>\n",
              "    </tr>\n",
              "    <tr>\n",
              "      <th>11</th>\n",
              "      <td>ad_lifetime</td>\n",
              "      <td>717</td>\n",
              "    </tr>\n",
              "    <tr>\n",
              "      <th>5</th>\n",
              "      <td>Kilometer</td>\n",
              "      <td>709</td>\n",
              "    </tr>\n",
              "    <tr>\n",
              "      <th>6</th>\n",
              "      <td>RegistrationMonth</td>\n",
              "      <td>478</td>\n",
              "    </tr>\n",
              "    <tr>\n",
              "      <th>8</th>\n",
              "      <td>Brand</td>\n",
              "      <td>432</td>\n",
              "    </tr>\n",
              "    <tr>\n",
              "      <th>0</th>\n",
              "      <td>VehicleType</td>\n",
              "      <td>364</td>\n",
              "    </tr>\n",
              "    <tr>\n",
              "      <th>9</th>\n",
              "      <td>Repaired</td>\n",
              "      <td>183</td>\n",
              "    </tr>\n",
              "    <tr>\n",
              "      <th>2</th>\n",
              "      <td>Gearbox</td>\n",
              "      <td>177</td>\n",
              "    </tr>\n",
              "    <tr>\n",
              "      <th>7</th>\n",
              "      <td>FuelType</td>\n",
              "      <td>122</td>\n",
              "    </tr>\n",
              "  </tbody>\n",
              "</table>\n",
              "</div>\n",
              "      <button class=\"colab-df-convert\" onclick=\"convertToInteractive('df-505a26aa-ab67-4f52-8e2f-b180550a6e92')\"\n",
              "              title=\"Convert this dataframe to an interactive table.\"\n",
              "              style=\"display:none;\">\n",
              "        \n",
              "  <svg xmlns=\"http://www.w3.org/2000/svg\" height=\"24px\"viewBox=\"0 0 24 24\"\n",
              "       width=\"24px\">\n",
              "    <path d=\"M0 0h24v24H0V0z\" fill=\"none\"/>\n",
              "    <path d=\"M18.56 5.44l.94 2.06.94-2.06 2.06-.94-2.06-.94-.94-2.06-.94 2.06-2.06.94zm-11 1L8.5 8.5l.94-2.06 2.06-.94-2.06-.94L8.5 2.5l-.94 2.06-2.06.94zm10 10l.94 2.06.94-2.06 2.06-.94-2.06-.94-.94-2.06-.94 2.06-2.06.94z\"/><path d=\"M17.41 7.96l-1.37-1.37c-.4-.4-.92-.59-1.43-.59-.52 0-1.04.2-1.43.59L10.3 9.45l-7.72 7.72c-.78.78-.78 2.05 0 2.83L4 21.41c.39.39.9.59 1.41.59.51 0 1.02-.2 1.41-.59l7.78-7.78 2.81-2.81c.8-.78.8-2.07 0-2.86zM5.41 20L4 18.59l7.72-7.72 1.47 1.35L5.41 20z\"/>\n",
              "  </svg>\n",
              "      </button>\n",
              "      \n",
              "  <style>\n",
              "    .colab-df-container {\n",
              "      display:flex;\n",
              "      flex-wrap:wrap;\n",
              "      gap: 12px;\n",
              "    }\n",
              "\n",
              "    .colab-df-convert {\n",
              "      background-color: #E8F0FE;\n",
              "      border: none;\n",
              "      border-radius: 50%;\n",
              "      cursor: pointer;\n",
              "      display: none;\n",
              "      fill: #1967D2;\n",
              "      height: 32px;\n",
              "      padding: 0 0 0 0;\n",
              "      width: 32px;\n",
              "    }\n",
              "\n",
              "    .colab-df-convert:hover {\n",
              "      background-color: #E2EBFA;\n",
              "      box-shadow: 0px 1px 2px rgba(60, 64, 67, 0.3), 0px 1px 3px 1px rgba(60, 64, 67, 0.15);\n",
              "      fill: #174EA6;\n",
              "    }\n",
              "\n",
              "    [theme=dark] .colab-df-convert {\n",
              "      background-color: #3B4455;\n",
              "      fill: #D2E3FC;\n",
              "    }\n",
              "\n",
              "    [theme=dark] .colab-df-convert:hover {\n",
              "      background-color: #434B5C;\n",
              "      box-shadow: 0px 1px 3px 1px rgba(0, 0, 0, 0.15);\n",
              "      filter: drop-shadow(0px 1px 2px rgba(0, 0, 0, 0.3));\n",
              "      fill: #FFFFFF;\n",
              "    }\n",
              "  </style>\n",
              "\n",
              "      <script>\n",
              "        const buttonEl =\n",
              "          document.querySelector('#df-505a26aa-ab67-4f52-8e2f-b180550a6e92 button.colab-df-convert');\n",
              "        buttonEl.style.display =\n",
              "          google.colab.kernel.accessAllowed ? 'block' : 'none';\n",
              "\n",
              "        async function convertToInteractive(key) {\n",
              "          const element = document.querySelector('#df-505a26aa-ab67-4f52-8e2f-b180550a6e92');\n",
              "          const dataTable =\n",
              "            await google.colab.kernel.invokeFunction('convertToInteractive',\n",
              "                                                     [key], {});\n",
              "          if (!dataTable) return;\n",
              "\n",
              "          const docLinkHtml = 'Like what you see? Visit the ' +\n",
              "            '<a target=\"_blank\" href=https://colab.research.google.com/notebooks/data_table.ipynb>data table notebook</a>'\n",
              "            + ' to learn more about interactive tables.';\n",
              "          element.innerHTML = '';\n",
              "          dataTable['output_type'] = 'display_data';\n",
              "          await google.colab.output.renderOutput(dataTable, element);\n",
              "          const docLink = document.createElement('div');\n",
              "          docLink.innerHTML = docLinkHtml;\n",
              "          element.appendChild(docLink);\n",
              "        }\n",
              "      </script>\n",
              "    </div>\n",
              "  </div>\n",
              "  "
            ]
          },
          "metadata": {},
          "execution_count": 33
        }
      ]
    },
    {
      "cell_type": "markdown",
      "source": [
        "As we can see, the year of manufacture, power and model of the car affected the results of training and validation the most. And the type of fuel turned out to be the least important feature. Let's test our model on a test sample."
      ],
      "metadata": {
        "id": "YZufMLpBw7G4"
      }
    },
    {
      "cell_type": "markdown",
      "source": [
        "## Testing"
      ],
      "metadata": {
        "id": "_qpVXF9g5Z5G"
      }
    },
    {
      "cell_type": "code",
      "execution_count": 32,
      "metadata": {
        "id": "Ev4_Pnpg_PzM",
        "colab": {
          "base_uri": "https://localhost:8080/"
        },
        "outputId": "596717b2-d8f4-41d2-b821-346969e3b557"
      },
      "outputs": [
        {
          "output_type": "execute_result",
          "data": {
            "text/plain": [
              "1560.597633943835"
            ]
          },
          "metadata": {},
          "execution_count": 32
        }
      ],
      "source": [
        "X_test[cat_features] = X_test[cat_features].astype('category')\n",
        "mean_squared_error(y_test, grid_search_lgbr.predict(X_test), squared=False)"
      ]
    },
    {
      "cell_type": "markdown",
      "metadata": {
        "id": "2-Se3Y8w_PzN"
      },
      "source": [
        "## Conclusion\n",
        "We examined a dataset with data on the technical characteristics, configuration and prices of other cars. Preprocessing was carried out, abnormal values, duplicates were removed and gaps were filled in. We trained three models Ridge, LGBMRegressor, CatBoostRegressor with different parameters. The time spent on training and prediction was determined, and the RMSE metric was used to assess the quality of the models. From the dataframe with the results, it can be seen that the LGBMRegressor model got the best score. We tested it on a test sample. RMSE is much less than 2500, which satisfies our requirements."
      ]
    },
    {
      "cell_type": "code",
      "execution_count": null,
      "metadata": {
        "id": "gXEZGZux_Pzk"
      },
      "outputs": [],
      "source": []
    }
  ],
  "metadata": {
    "ExecuteTimeLog": [
      {
        "duration": 276,
        "start_time": "2023-02-27T19:46:12.384Z"
      },
      {
        "duration": 973,
        "start_time": "2023-02-27T19:46:53.279Z"
      },
      {
        "duration": 25,
        "start_time": "2023-02-27T19:46:57.028Z"
      },
      {
        "duration": 25,
        "start_time": "2023-02-27T20:02:53.795Z"
      },
      {
        "duration": 20,
        "start_time": "2023-02-27T20:03:34.458Z"
      },
      {
        "duration": 22,
        "start_time": "2023-02-27T20:03:41.196Z"
      },
      {
        "duration": 22,
        "start_time": "2023-02-27T20:03:43.953Z"
      },
      {
        "duration": 26,
        "start_time": "2023-02-27T20:05:04.059Z"
      },
      {
        "duration": 13,
        "start_time": "2023-02-27T20:05:16.191Z"
      },
      {
        "duration": 115,
        "start_time": "2023-02-27T20:05:25.133Z"
      },
      {
        "duration": 100,
        "start_time": "2023-02-27T20:05:48.997Z"
      },
      {
        "duration": 51,
        "start_time": "2023-02-27T20:08:00.568Z"
      },
      {
        "duration": 47,
        "start_time": "2023-02-27T20:08:23.531Z"
      },
      {
        "duration": 40,
        "start_time": "2023-02-27T20:08:48.613Z"
      },
      {
        "duration": 28,
        "start_time": "2023-02-27T20:10:39.789Z"
      },
      {
        "duration": 32,
        "start_time": "2023-02-27T20:11:00.372Z"
      },
      {
        "duration": 39,
        "start_time": "2023-02-27T20:11:32.059Z"
      },
      {
        "duration": 29,
        "start_time": "2023-02-27T20:12:01.740Z"
      },
      {
        "duration": 475,
        "start_time": "2023-02-27T20:13:45.800Z"
      },
      {
        "duration": 503,
        "start_time": "2023-02-27T20:14:02.477Z"
      },
      {
        "duration": 9,
        "start_time": "2023-02-27T20:14:51.717Z"
      },
      {
        "duration": 144,
        "start_time": "2023-02-27T20:18:24.999Z"
      },
      {
        "duration": 35,
        "start_time": "2023-02-27T20:18:32.148Z"
      },
      {
        "duration": 94,
        "start_time": "2023-02-27T20:18:35.246Z"
      },
      {
        "duration": 99,
        "start_time": "2023-02-27T20:18:37.956Z"
      },
      {
        "duration": 310,
        "start_time": "2023-02-27T20:18:44.166Z"
      },
      {
        "duration": 448,
        "start_time": "2023-02-27T20:19:31.100Z"
      },
      {
        "duration": 1314,
        "start_time": "2023-02-27T20:19:59.395Z"
      },
      {
        "duration": 93,
        "start_time": "2023-02-27T20:20:49.136Z"
      },
      {
        "duration": 2660,
        "start_time": "2023-02-27T20:21:08.586Z"
      },
      {
        "duration": 419,
        "start_time": "2023-02-27T20:21:51.479Z"
      },
      {
        "duration": 3,
        "start_time": "2023-02-27T20:23:06.632Z"
      },
      {
        "duration": 11,
        "start_time": "2023-02-27T20:24:27.988Z"
      },
      {
        "duration": 438,
        "start_time": "2023-02-27T20:24:40.529Z"
      },
      {
        "duration": 624,
        "start_time": "2023-02-27T20:24:58.052Z"
      },
      {
        "duration": 443,
        "start_time": "2023-02-27T20:25:07.650Z"
      },
      {
        "duration": 273,
        "start_time": "2023-02-27T20:25:22.467Z"
      },
      {
        "duration": 301,
        "start_time": "2023-02-27T20:25:30.682Z"
      },
      {
        "duration": 240,
        "start_time": "2023-02-27T20:25:49.385Z"
      },
      {
        "duration": 424,
        "start_time": "2023-02-27T20:25:58.518Z"
      },
      {
        "duration": 13,
        "start_time": "2023-02-27T20:26:17.792Z"
      },
      {
        "duration": 183,
        "start_time": "2023-02-27T20:26:28.095Z"
      },
      {
        "duration": 13720,
        "start_time": "2023-02-27T20:27:17.466Z"
      },
      {
        "duration": 9,
        "start_time": "2023-02-27T20:28:15.757Z"
      },
      {
        "duration": 8,
        "start_time": "2023-02-27T20:28:27.650Z"
      },
      {
        "duration": 29,
        "start_time": "2023-02-27T20:28:49.013Z"
      },
      {
        "duration": 10,
        "start_time": "2023-02-27T20:29:18.217Z"
      },
      {
        "duration": 9,
        "start_time": "2023-02-27T20:29:32.577Z"
      },
      {
        "duration": 9478,
        "start_time": "2023-02-27T20:29:52.655Z"
      },
      {
        "duration": 329,
        "start_time": "2023-02-27T20:30:12.819Z"
      },
      {
        "duration": 54,
        "start_time": "2023-03-04T17:27:04.721Z"
      },
      {
        "duration": 1647,
        "start_time": "2023-03-04T17:27:14.518Z"
      },
      {
        "duration": 3297,
        "start_time": "2023-03-04T17:27:16.167Z"
      },
      {
        "duration": 42,
        "start_time": "2023-03-04T17:27:19.466Z"
      },
      {
        "duration": 118,
        "start_time": "2023-03-04T17:27:19.510Z"
      },
      {
        "duration": 158,
        "start_time": "2023-03-04T17:27:19.631Z"
      },
      {
        "duration": 35,
        "start_time": "2023-03-04T17:27:19.791Z"
      },
      {
        "duration": 54,
        "start_time": "2023-03-04T17:27:19.829Z"
      },
      {
        "duration": 49,
        "start_time": "2023-03-04T17:27:19.885Z"
      },
      {
        "duration": 52,
        "start_time": "2023-03-04T17:27:19.935Z"
      },
      {
        "duration": 400,
        "start_time": "2023-03-04T17:27:19.989Z"
      },
      {
        "duration": 140,
        "start_time": "2023-03-04T17:27:20.391Z"
      },
      {
        "duration": 0,
        "start_time": "2023-03-04T17:27:20.533Z"
      },
      {
        "duration": 0,
        "start_time": "2023-03-04T17:27:20.535Z"
      },
      {
        "duration": 217,
        "start_time": "2023-03-04T17:36:58.567Z"
      },
      {
        "duration": 34,
        "start_time": "2023-03-04T17:38:26.023Z"
      },
      {
        "duration": 145,
        "start_time": "2023-03-04T17:48:21.169Z"
      },
      {
        "duration": 141,
        "start_time": "2023-03-04T17:48:30.270Z"
      },
      {
        "duration": 137,
        "start_time": "2023-03-04T17:48:39.717Z"
      },
      {
        "duration": 8,
        "start_time": "2023-03-04T17:49:35.829Z"
      },
      {
        "duration": 18,
        "start_time": "2023-03-04T17:51:19.452Z"
      },
      {
        "duration": 235,
        "start_time": "2023-03-04T17:51:34.668Z"
      },
      {
        "duration": 11,
        "start_time": "2023-03-04T17:51:49.474Z"
      },
      {
        "duration": 108,
        "start_time": "2023-03-04T17:52:11.300Z"
      },
      {
        "duration": 122,
        "start_time": "2023-03-04T17:52:39.323Z"
      },
      {
        "duration": 8,
        "start_time": "2023-03-04T17:54:06.376Z"
      },
      {
        "duration": 26,
        "start_time": "2023-03-04T17:54:11.387Z"
      },
      {
        "duration": 30,
        "start_time": "2023-03-04T17:55:09.665Z"
      },
      {
        "duration": 9,
        "start_time": "2023-03-04T17:55:37.939Z"
      },
      {
        "duration": 8,
        "start_time": "2023-03-04T17:55:53.322Z"
      },
      {
        "duration": 6,
        "start_time": "2023-03-04T17:56:07.567Z"
      },
      {
        "duration": 4,
        "start_time": "2023-03-04T17:56:16.923Z"
      },
      {
        "duration": 4,
        "start_time": "2023-03-04T17:56:20.899Z"
      },
      {
        "duration": 9,
        "start_time": "2023-03-04T17:56:41.103Z"
      },
      {
        "duration": 7,
        "start_time": "2023-03-04T17:56:49.521Z"
      },
      {
        "duration": 30,
        "start_time": "2023-03-04T18:04:19.887Z"
      },
      {
        "duration": 11,
        "start_time": "2023-03-04T18:04:44.370Z"
      },
      {
        "duration": 42,
        "start_time": "2023-03-04T18:05:52.565Z"
      },
      {
        "duration": 42,
        "start_time": "2023-03-04T18:06:07.461Z"
      },
      {
        "duration": 43,
        "start_time": "2023-03-04T18:06:23.766Z"
      },
      {
        "duration": 25,
        "start_time": "2023-03-04T18:06:57.986Z"
      },
      {
        "duration": 7,
        "start_time": "2023-03-04T18:07:53.300Z"
      },
      {
        "duration": 98,
        "start_time": "2023-03-04T18:08:21.063Z"
      },
      {
        "duration": 8,
        "start_time": "2023-03-04T18:10:29.656Z"
      },
      {
        "duration": 9,
        "start_time": "2023-03-04T18:31:26.013Z"
      },
      {
        "duration": 121,
        "start_time": "2023-03-04T18:32:10.169Z"
      },
      {
        "duration": 40,
        "start_time": "2023-03-04T18:38:06.298Z"
      },
      {
        "duration": 28,
        "start_time": "2023-03-04T18:39:18.836Z"
      },
      {
        "duration": 82,
        "start_time": "2023-03-04T18:39:26.212Z"
      },
      {
        "duration": 103,
        "start_time": "2023-03-04T18:51:34.828Z"
      },
      {
        "duration": 79,
        "start_time": "2023-03-04T18:51:35.668Z"
      },
      {
        "duration": 17,
        "start_time": "2023-03-04T18:53:17.171Z"
      },
      {
        "duration": 57,
        "start_time": "2023-03-04T18:53:25.113Z"
      },
      {
        "duration": 5,
        "start_time": "2023-03-04T19:09:57.362Z"
      },
      {
        "duration": 3,
        "start_time": "2023-03-04T19:13:14.374Z"
      },
      {
        "duration": 3,
        "start_time": "2023-03-04T19:13:15.065Z"
      },
      {
        "duration": 3,
        "start_time": "2023-03-04T19:14:04.535Z"
      },
      {
        "duration": 7225,
        "start_time": "2023-03-04T19:14:47.997Z"
      },
      {
        "duration": 5,
        "start_time": "2023-03-04T19:21:31.690Z"
      },
      {
        "duration": 3,
        "start_time": "2023-03-04T19:23:35.149Z"
      },
      {
        "duration": 5,
        "start_time": "2023-03-04T19:50:40.493Z"
      },
      {
        "duration": 12,
        "start_time": "2023-03-04T19:53:55.092Z"
      },
      {
        "duration": 14,
        "start_time": "2023-03-04T19:55:42.722Z"
      },
      {
        "duration": 53,
        "start_time": "2023-03-04T19:55:55.156Z"
      },
      {
        "duration": 61,
        "start_time": "2023-03-04T19:56:09.739Z"
      },
      {
        "duration": 63,
        "start_time": "2023-03-04T19:56:16.634Z"
      },
      {
        "duration": 8,
        "start_time": "2023-03-04T19:57:50.931Z"
      },
      {
        "duration": 11,
        "start_time": "2023-03-04T19:58:14.314Z"
      },
      {
        "duration": 12,
        "start_time": "2023-03-04T19:58:48.928Z"
      },
      {
        "duration": 12,
        "start_time": "2023-03-04T19:58:54.595Z"
      },
      {
        "duration": 16,
        "start_time": "2023-03-04T19:59:47.387Z"
      },
      {
        "duration": 11,
        "start_time": "2023-03-04T20:04:38.361Z"
      },
      {
        "duration": 62,
        "start_time": "2023-03-04T20:04:42.814Z"
      },
      {
        "duration": 26,
        "start_time": "2023-03-04T20:05:52.517Z"
      },
      {
        "duration": 58,
        "start_time": "2023-03-04T20:05:54.853Z"
      },
      {
        "duration": 2,
        "start_time": "2023-03-04T20:05:56.244Z"
      },
      {
        "duration": 20,
        "start_time": "2023-03-04T20:12:52.915Z"
      },
      {
        "duration": 4,
        "start_time": "2023-03-04T20:12:57.027Z"
      },
      {
        "duration": 11,
        "start_time": "2023-03-04T20:16:20.276Z"
      },
      {
        "duration": 9,
        "start_time": "2023-03-04T20:20:58.767Z"
      },
      {
        "duration": 4,
        "start_time": "2023-03-04T20:21:24.706Z"
      },
      {
        "duration": 8,
        "start_time": "2023-03-04T20:21:29.682Z"
      },
      {
        "duration": 8,
        "start_time": "2023-03-04T20:22:49.397Z"
      },
      {
        "duration": 3,
        "start_time": "2023-03-04T20:23:11.381Z"
      },
      {
        "duration": 3,
        "start_time": "2023-03-04T20:25:59.688Z"
      },
      {
        "duration": 59,
        "start_time": "2023-03-04T20:26:00.514Z"
      },
      {
        "duration": 20,
        "start_time": "2023-03-04T20:32:37.883Z"
      },
      {
        "duration": 9,
        "start_time": "2023-03-04T20:32:50.499Z"
      },
      {
        "duration": 3,
        "start_time": "2023-03-04T20:33:10.053Z"
      },
      {
        "duration": 9,
        "start_time": "2023-03-04T20:33:16.980Z"
      },
      {
        "duration": 3,
        "start_time": "2023-03-04T20:33:49.176Z"
      },
      {
        "duration": 11,
        "start_time": "2023-03-04T20:34:00.533Z"
      },
      {
        "duration": 6349,
        "start_time": "2023-03-04T20:36:36.712Z"
      },
      {
        "duration": 16,
        "start_time": "2023-03-04T20:36:49.675Z"
      },
      {
        "duration": 9,
        "start_time": "2023-03-04T20:37:02.996Z"
      },
      {
        "duration": 3,
        "start_time": "2023-03-04T20:37:25.680Z"
      },
      {
        "duration": 4,
        "start_time": "2023-03-04T21:51:17.470Z"
      },
      {
        "duration": 9,
        "start_time": "2023-03-04T21:51:22.691Z"
      },
      {
        "duration": 2524,
        "start_time": "2023-03-04T21:51:30.512Z"
      },
      {
        "duration": 1305,
        "start_time": "2023-03-04T21:51:33.038Z"
      },
      {
        "duration": 769,
        "start_time": "2023-03-04T21:51:34.345Z"
      },
      {
        "duration": 51,
        "start_time": "2023-03-04T21:51:35.116Z"
      },
      {
        "duration": 234,
        "start_time": "2023-03-04T21:51:35.169Z"
      },
      {
        "duration": 35,
        "start_time": "2023-03-04T21:51:35.405Z"
      },
      {
        "duration": 153,
        "start_time": "2023-03-04T21:51:35.441Z"
      },
      {
        "duration": 148,
        "start_time": "2023-03-04T21:51:35.596Z"
      },
      {
        "duration": 122,
        "start_time": "2023-03-04T21:51:35.745Z"
      },
      {
        "duration": 140,
        "start_time": "2023-03-04T21:51:35.868Z"
      },
      {
        "duration": 10,
        "start_time": "2023-03-04T21:51:36.010Z"
      },
      {
        "duration": 69,
        "start_time": "2023-03-04T21:51:36.022Z"
      },
      {
        "duration": 24,
        "start_time": "2023-03-04T21:51:36.092Z"
      },
      {
        "duration": 69,
        "start_time": "2023-03-04T21:51:36.119Z"
      },
      {
        "duration": 24,
        "start_time": "2023-03-04T21:51:36.189Z"
      },
      {
        "duration": 4,
        "start_time": "2023-03-04T21:51:36.215Z"
      },
      {
        "duration": 5,
        "start_time": "2023-03-04T21:51:36.220Z"
      },
      {
        "duration": 5,
        "start_time": "2023-03-04T21:51:36.226Z"
      },
      {
        "duration": 4,
        "start_time": "2023-03-04T21:51:36.254Z"
      },
      {
        "duration": 129,
        "start_time": "2023-03-04T21:51:36.259Z"
      },
      {
        "duration": 0,
        "start_time": "2023-03-04T21:51:36.389Z"
      },
      {
        "duration": 0,
        "start_time": "2023-03-04T21:51:36.390Z"
      },
      {
        "duration": 2,
        "start_time": "2023-03-04T21:52:05.195Z"
      },
      {
        "duration": 3,
        "start_time": "2023-03-04T21:52:07.328Z"
      },
      {
        "duration": 32,
        "start_time": "2023-03-04T21:52:11.164Z"
      },
      {
        "duration": 2,
        "start_time": "2023-03-04T21:53:33.347Z"
      },
      {
        "duration": 2,
        "start_time": "2023-03-04T21:53:33.922Z"
      },
      {
        "duration": 2,
        "start_time": "2023-03-04T21:53:34.311Z"
      },
      {
        "duration": 3,
        "start_time": "2023-03-04T21:53:35.332Z"
      },
      {
        "duration": 32,
        "start_time": "2023-03-04T21:53:35.798Z"
      },
      {
        "duration": 2,
        "start_time": "2023-03-04T21:55:04.029Z"
      },
      {
        "duration": 3,
        "start_time": "2023-03-04T21:55:04.808Z"
      },
      {
        "duration": 3,
        "start_time": "2023-03-04T21:55:05.319Z"
      },
      {
        "duration": 34,
        "start_time": "2023-03-04T21:55:05.878Z"
      },
      {
        "duration": 2414,
        "start_time": "2023-03-04T22:08:42.021Z"
      },
      {
        "duration": 1305,
        "start_time": "2023-03-04T22:08:44.438Z"
      },
      {
        "duration": 763,
        "start_time": "2023-03-04T22:08:45.744Z"
      },
      {
        "duration": 51,
        "start_time": "2023-03-04T22:08:46.509Z"
      },
      {
        "duration": 226,
        "start_time": "2023-03-04T22:08:46.561Z"
      },
      {
        "duration": 42,
        "start_time": "2023-03-04T22:08:46.790Z"
      },
      {
        "duration": 169,
        "start_time": "2023-03-04T22:08:46.834Z"
      },
      {
        "duration": 152,
        "start_time": "2023-03-04T22:08:47.004Z"
      },
      {
        "duration": 131,
        "start_time": "2023-03-04T22:08:47.157Z"
      },
      {
        "duration": 126,
        "start_time": "2023-03-04T22:08:47.290Z"
      },
      {
        "duration": 11,
        "start_time": "2023-03-04T22:08:47.419Z"
      },
      {
        "duration": 69,
        "start_time": "2023-03-04T22:08:47.432Z"
      },
      {
        "duration": 21,
        "start_time": "2023-03-04T22:08:47.503Z"
      },
      {
        "duration": 65,
        "start_time": "2023-03-04T22:08:47.525Z"
      },
      {
        "duration": 24,
        "start_time": "2023-03-04T22:08:47.591Z"
      },
      {
        "duration": 4,
        "start_time": "2023-03-04T22:08:47.616Z"
      },
      {
        "duration": 5,
        "start_time": "2023-03-04T22:08:47.622Z"
      },
      {
        "duration": 3,
        "start_time": "2023-03-04T22:08:47.629Z"
      },
      {
        "duration": 4,
        "start_time": "2023-03-04T22:08:47.633Z"
      },
      {
        "duration": 3,
        "start_time": "2023-03-04T22:08:47.655Z"
      },
      {
        "duration": 168,
        "start_time": "2023-03-04T22:08:47.660Z"
      },
      {
        "duration": 3,
        "start_time": "2023-03-04T22:09:29.511Z"
      },
      {
        "duration": 2,
        "start_time": "2023-03-04T22:09:29.947Z"
      },
      {
        "duration": 3,
        "start_time": "2023-03-04T22:09:30.398Z"
      },
      {
        "duration": 43,
        "start_time": "2023-03-04T22:09:31.046Z"
      },
      {
        "duration": 9,
        "start_time": "2023-03-04T22:10:49.871Z"
      },
      {
        "duration": 10,
        "start_time": "2023-03-04T22:11:02.665Z"
      },
      {
        "duration": 2,
        "start_time": "2023-03-04T22:11:28.496Z"
      },
      {
        "duration": 35,
        "start_time": "2023-03-04T22:11:30.013Z"
      },
      {
        "duration": 3,
        "start_time": "2023-03-04T22:23:57.026Z"
      },
      {
        "duration": 3,
        "start_time": "2023-03-04T22:23:57.530Z"
      },
      {
        "duration": 3,
        "start_time": "2023-03-04T22:23:57.895Z"
      },
      {
        "duration": 37,
        "start_time": "2023-03-04T22:23:58.437Z"
      },
      {
        "duration": 3,
        "start_time": "2023-03-04T22:24:38.924Z"
      },
      {
        "duration": 3,
        "start_time": "2023-03-04T22:24:39.522Z"
      },
      {
        "duration": 3,
        "start_time": "2023-03-04T22:24:40.180Z"
      },
      {
        "duration": 892950,
        "start_time": "2023-03-04T22:24:40.736Z"
      },
      {
        "duration": 4,
        "start_time": "2023-03-04T22:40:01.321Z"
      },
      {
        "duration": 4,
        "start_time": "2023-03-04T22:41:23.510Z"
      },
      {
        "duration": 43810,
        "start_time": "2023-03-04T22:41:24.976Z"
      },
      {
        "duration": 2399,
        "start_time": "2023-03-04T22:45:17.226Z"
      },
      {
        "duration": 1288,
        "start_time": "2023-03-04T22:45:19.627Z"
      },
      {
        "duration": 765,
        "start_time": "2023-03-04T22:45:20.917Z"
      },
      {
        "duration": 48,
        "start_time": "2023-03-04T22:45:21.684Z"
      },
      {
        "duration": 207,
        "start_time": "2023-03-04T22:45:21.733Z"
      },
      {
        "duration": 33,
        "start_time": "2023-03-04T22:45:21.941Z"
      },
      {
        "duration": 147,
        "start_time": "2023-03-04T22:45:21.976Z"
      },
      {
        "duration": 144,
        "start_time": "2023-03-04T22:45:22.124Z"
      },
      {
        "duration": 119,
        "start_time": "2023-03-04T22:45:22.269Z"
      },
      {
        "duration": 140,
        "start_time": "2023-03-04T22:45:22.391Z"
      },
      {
        "duration": 11,
        "start_time": "2023-03-04T22:45:22.532Z"
      },
      {
        "duration": 67,
        "start_time": "2023-03-04T22:45:22.544Z"
      },
      {
        "duration": 22,
        "start_time": "2023-03-04T22:45:22.613Z"
      },
      {
        "duration": 57,
        "start_time": "2023-03-04T22:45:22.636Z"
      },
      {
        "duration": 22,
        "start_time": "2023-03-04T22:45:22.695Z"
      },
      {
        "duration": 3,
        "start_time": "2023-03-04T22:45:22.719Z"
      },
      {
        "duration": 4,
        "start_time": "2023-03-04T22:45:22.724Z"
      },
      {
        "duration": 3,
        "start_time": "2023-03-04T22:45:22.729Z"
      },
      {
        "duration": 23,
        "start_time": "2023-03-04T22:45:22.733Z"
      },
      {
        "duration": 127,
        "start_time": "2023-03-04T22:45:22.757Z"
      },
      {
        "duration": 0,
        "start_time": "2023-03-04T22:45:22.886Z"
      },
      {
        "duration": 4,
        "start_time": "2023-03-04T22:45:50.066Z"
      },
      {
        "duration": 3,
        "start_time": "2023-03-04T22:46:01.678Z"
      },
      {
        "duration": 84540,
        "start_time": "2023-03-04T22:46:11.324Z"
      },
      {
        "duration": 3,
        "start_time": "2023-03-04T22:47:52.967Z"
      },
      {
        "duration": 8134,
        "start_time": "2023-03-04T22:47:57.106Z"
      },
      {
        "duration": 3,
        "start_time": "2023-03-04T22:48:07.189Z"
      },
      {
        "duration": 3,
        "start_time": "2023-03-04T22:48:07.665Z"
      },
      {
        "duration": 3200838,
        "start_time": "2023-03-04T22:48:09.120Z"
      },
      {
        "duration": 4,
        "start_time": "2023-03-04T23:41:29.960Z"
      },
      {
        "duration": 4,
        "start_time": "2023-03-04T23:41:29.965Z"
      },
      {
        "duration": 2225,
        "start_time": "2023-03-04T23:41:30.753Z"
      },
      {
        "duration": 4,
        "start_time": "2023-03-04T23:41:32.980Z"
      },
      {
        "duration": 2322,
        "start_time": "2023-03-05T08:38:35.505Z"
      },
      {
        "duration": 5,
        "start_time": "2023-03-05T08:38:41.816Z"
      },
      {
        "duration": 2,
        "start_time": "2023-03-05T08:45:52.412Z"
      },
      {
        "duration": 3,
        "start_time": "2023-03-05T08:45:56.368Z"
      },
      {
        "duration": 5,
        "start_time": "2023-03-05T08:46:35.382Z"
      },
      {
        "duration": 2,
        "start_time": "2023-03-05T08:46:37.344Z"
      },
      {
        "duration": 2,
        "start_time": "2023-03-05T08:46:43.937Z"
      },
      {
        "duration": 101,
        "start_time": "2023-03-05T08:46:49.072Z"
      },
      {
        "duration": 3,
        "start_time": "2023-03-05T08:47:32.425Z"
      },
      {
        "duration": 2,
        "start_time": "2023-03-05T08:47:33.281Z"
      },
      {
        "duration": 2,
        "start_time": "2023-03-05T08:47:34.522Z"
      },
      {
        "duration": 1387436,
        "start_time": "2023-03-05T08:47:40.434Z"
      },
      {
        "duration": 4,
        "start_time": "2023-03-05T09:10:47.871Z"
      },
      {
        "duration": 5,
        "start_time": "2023-03-05T09:10:47.876Z"
      },
      {
        "duration": 2249,
        "start_time": "2023-03-05T09:10:47.883Z"
      },
      {
        "duration": 4,
        "start_time": "2023-03-05T09:10:50.134Z"
      },
      {
        "duration": 2,
        "start_time": "2023-03-05T09:15:38.995Z"
      },
      {
        "duration": 3,
        "start_time": "2023-03-05T09:15:41.406Z"
      },
      {
        "duration": 3,
        "start_time": "2023-03-05T09:15:43.770Z"
      },
      {
        "duration": 3,
        "start_time": "2023-03-05T09:15:44.874Z"
      },
      {
        "duration": 26127,
        "start_time": "2023-03-05T09:16:14.182Z"
      },
      {
        "duration": 2,
        "start_time": "2023-03-05T09:17:47.964Z"
      },
      {
        "duration": 3,
        "start_time": "2023-03-05T09:17:48.415Z"
      },
      {
        "duration": 2,
        "start_time": "2023-03-05T09:17:48.822Z"
      },
      {
        "duration": 3,
        "start_time": "2023-03-05T09:17:49.605Z"
      },
      {
        "duration": 73069,
        "start_time": "2023-03-05T09:17:51.057Z"
      },
      {
        "duration": 3,
        "start_time": "2023-03-05T09:19:08.263Z"
      },
      {
        "duration": 2,
        "start_time": "2023-03-05T09:19:08.486Z"
      },
      {
        "duration": 2,
        "start_time": "2023-03-05T09:19:08.802Z"
      },
      {
        "duration": 565720,
        "start_time": "2023-03-05T09:19:09.462Z"
      },
      {
        "duration": 4,
        "start_time": "2023-03-05T09:28:35.184Z"
      },
      {
        "duration": 5,
        "start_time": "2023-03-05T09:28:35.190Z"
      },
      {
        "duration": 4,
        "start_time": "2023-03-05T09:28:35.198Z"
      },
      {
        "duration": 5,
        "start_time": "2023-03-05T09:28:35.203Z"
      },
      {
        "duration": 4,
        "start_time": "2023-03-05T09:28:35.210Z"
      },
      {
        "duration": 4,
        "start_time": "2023-03-05T09:28:35.215Z"
      },
      {
        "duration": 275,
        "start_time": "2023-03-05T09:28:35.254Z"
      },
      {
        "duration": 4,
        "start_time": "2023-03-05T09:28:35.531Z"
      },
      {
        "duration": 1274,
        "start_time": "2023-03-05T09:30:57.381Z"
      },
      {
        "duration": 5,
        "start_time": "2023-03-05T09:31:00.785Z"
      },
      {
        "duration": 4,
        "start_time": "2023-03-05T10:13:30.287Z"
      },
      {
        "duration": 7,
        "start_time": "2023-03-05T10:13:36.687Z"
      },
      {
        "duration": 12,
        "start_time": "2023-03-05T10:14:58.363Z"
      },
      {
        "duration": 4,
        "start_time": "2023-03-05T10:15:05.719Z"
      },
      {
        "duration": 7,
        "start_time": "2023-03-05T10:15:06.710Z"
      },
      {
        "duration": 4,
        "start_time": "2023-03-05T10:19:35.459Z"
      },
      {
        "duration": 9,
        "start_time": "2023-03-05T10:19:36.282Z"
      },
      {
        "duration": 170,
        "start_time": "2023-03-05T10:26:26.731Z"
      },
      {
        "duration": 179,
        "start_time": "2023-03-05T10:27:46.797Z"
      },
      {
        "duration": 8,
        "start_time": "2023-03-05T10:28:01.517Z"
      },
      {
        "duration": 4,
        "start_time": "2023-03-05T10:28:06.584Z"
      },
      {
        "duration": 2600,
        "start_time": "2023-03-05T10:36:34.328Z"
      },
      {
        "duration": 1371,
        "start_time": "2023-03-05T10:36:36.932Z"
      },
      {
        "duration": 812,
        "start_time": "2023-03-05T10:36:38.305Z"
      },
      {
        "duration": 57,
        "start_time": "2023-03-05T10:36:39.119Z"
      },
      {
        "duration": 319,
        "start_time": "2023-03-05T10:36:39.178Z"
      },
      {
        "duration": 377,
        "start_time": "2023-03-05T10:36:39.498Z"
      },
      {
        "duration": 235,
        "start_time": "2023-03-05T10:36:39.876Z"
      },
      {
        "duration": 32,
        "start_time": "2023-03-05T10:36:40.112Z"
      },
      {
        "duration": 122,
        "start_time": "2023-03-05T10:36:40.155Z"
      },
      {
        "duration": 135,
        "start_time": "2023-03-05T10:36:40.280Z"
      },
      {
        "duration": 134,
        "start_time": "2023-03-05T10:36:40.416Z"
      },
      {
        "duration": 144,
        "start_time": "2023-03-05T10:36:40.551Z"
      },
      {
        "duration": 11,
        "start_time": "2023-03-05T10:36:40.696Z"
      },
      {
        "duration": 80,
        "start_time": "2023-03-05T10:36:40.709Z"
      },
      {
        "duration": 20,
        "start_time": "2023-03-05T10:36:40.791Z"
      },
      {
        "duration": 69,
        "start_time": "2023-03-05T10:36:40.813Z"
      },
      {
        "duration": 24,
        "start_time": "2023-03-05T10:36:40.883Z"
      },
      {
        "duration": 3,
        "start_time": "2023-03-05T10:36:40.909Z"
      },
      {
        "duration": 4,
        "start_time": "2023-03-05T10:36:40.913Z"
      },
      {
        "duration": 4,
        "start_time": "2023-03-05T10:36:40.918Z"
      },
      {
        "duration": 3,
        "start_time": "2023-03-05T10:36:40.924Z"
      },
      {
        "duration": 27,
        "start_time": "2023-03-05T10:36:40.928Z"
      },
      {
        "duration": 3549523,
        "start_time": "2023-03-05T10:36:40.958Z"
      },
      {
        "duration": 4,
        "start_time": "2023-03-05T11:35:50.483Z"
      },
      {
        "duration": 5,
        "start_time": "2023-03-05T11:35:50.489Z"
      },
      {
        "duration": 2247,
        "start_time": "2023-03-05T11:35:50.495Z"
      },
      {
        "duration": 5,
        "start_time": "2023-03-05T11:35:52.744Z"
      },
      {
        "duration": 3,
        "start_time": "2023-03-05T11:35:52.757Z"
      },
      {
        "duration": 4,
        "start_time": "2023-03-05T11:35:52.761Z"
      },
      {
        "duration": 8,
        "start_time": "2023-03-05T11:35:52.766Z"
      },
      {
        "duration": 3,
        "start_time": "2023-03-05T11:35:52.775Z"
      },
      {
        "duration": 785287,
        "start_time": "2023-03-05T11:35:52.779Z"
      },
      {
        "duration": 4,
        "start_time": "2023-03-05T11:48:58.067Z"
      },
      {
        "duration": 4,
        "start_time": "2023-03-05T11:48:58.073Z"
      },
      {
        "duration": 1197,
        "start_time": "2023-03-05T11:48:58.078Z"
      },
      {
        "duration": 81,
        "start_time": "2023-03-05T11:48:59.277Z"
      },
      {
        "duration": 2,
        "start_time": "2023-03-05T11:48:59.360Z"
      },
      {
        "duration": 2,
        "start_time": "2023-03-05T11:48:59.364Z"
      },
      {
        "duration": 2,
        "start_time": "2023-03-05T11:48:59.368Z"
      },
      {
        "duration": 4,
        "start_time": "2023-03-05T11:48:59.371Z"
      },
      {
        "duration": 564417,
        "start_time": "2023-03-05T11:48:59.376Z"
      },
      {
        "duration": 4,
        "start_time": "2023-03-05T11:58:23.794Z"
      },
      {
        "duration": 4,
        "start_time": "2023-03-05T11:58:23.800Z"
      },
      {
        "duration": 243,
        "start_time": "2023-03-05T11:58:23.805Z"
      },
      {
        "duration": 5,
        "start_time": "2023-03-05T11:58:24.055Z"
      },
      {
        "duration": 4,
        "start_time": "2023-03-05T11:58:24.061Z"
      },
      {
        "duration": 19,
        "start_time": "2023-03-05T11:58:24.066Z"
      },
      {
        "duration": 4,
        "start_time": "2023-03-05T12:00:53.374Z"
      },
      {
        "duration": 9,
        "start_time": "2023-03-05T12:00:54.006Z"
      },
      {
        "duration": 8,
        "start_time": "2023-03-06T16:42:12.920Z"
      },
      {
        "duration": 136,
        "start_time": "2023-03-06T16:55:14.557Z"
      },
      {
        "duration": 4,
        "start_time": "2023-03-06T16:58:54.045Z"
      },
      {
        "duration": 6,
        "start_time": "2023-03-06T16:59:06.425Z"
      },
      {
        "duration": 14,
        "start_time": "2023-03-06T17:01:37.911Z"
      },
      {
        "duration": 12,
        "start_time": "2023-03-06T17:02:02.011Z"
      },
      {
        "duration": 1187,
        "start_time": "2023-03-06T17:03:10.581Z"
      },
      {
        "duration": 13,
        "start_time": "2023-03-06T17:03:32.645Z"
      },
      {
        "duration": 9,
        "start_time": "2023-03-06T17:05:50.165Z"
      },
      {
        "duration": 11,
        "start_time": "2023-03-06T17:07:57.546Z"
      },
      {
        "duration": 12,
        "start_time": "2023-03-06T17:09:57.602Z"
      },
      {
        "duration": 20,
        "start_time": "2023-03-06T17:14:36.002Z"
      },
      {
        "duration": 6,
        "start_time": "2023-03-06T17:16:16.184Z"
      },
      {
        "duration": 7,
        "start_time": "2023-03-06T17:16:32.329Z"
      },
      {
        "duration": 19,
        "start_time": "2023-03-06T17:16:43.546Z"
      },
      {
        "duration": 6,
        "start_time": "2023-03-06T17:17:33.822Z"
      },
      {
        "duration": 14,
        "start_time": "2023-03-06T17:18:54.785Z"
      },
      {
        "duration": 15,
        "start_time": "2023-03-06T17:19:23.915Z"
      },
      {
        "duration": 14,
        "start_time": "2023-03-06T17:19:34.646Z"
      },
      {
        "duration": 11,
        "start_time": "2023-03-06T17:20:34.972Z"
      },
      {
        "duration": 5,
        "start_time": "2023-03-06T17:22:00.295Z"
      },
      {
        "duration": 14,
        "start_time": "2023-03-06T17:22:42.418Z"
      },
      {
        "duration": 5,
        "start_time": "2023-03-06T17:23:21.887Z"
      },
      {
        "duration": 12,
        "start_time": "2023-03-06T17:23:27.830Z"
      },
      {
        "duration": 11,
        "start_time": "2023-03-06T17:24:14.601Z"
      },
      {
        "duration": 10,
        "start_time": "2023-03-06T17:24:42.297Z"
      },
      {
        "duration": 11,
        "start_time": "2023-03-06T17:25:28.359Z"
      },
      {
        "duration": 10,
        "start_time": "2023-03-06T17:26:50.654Z"
      },
      {
        "duration": 9,
        "start_time": "2023-03-06T17:27:00.783Z"
      },
      {
        "duration": 8,
        "start_time": "2023-03-06T17:27:19.168Z"
      },
      {
        "duration": 11,
        "start_time": "2023-03-06T17:27:32.807Z"
      },
      {
        "duration": 917,
        "start_time": "2023-03-06T17:28:09.433Z"
      },
      {
        "duration": 9,
        "start_time": "2023-03-06T17:28:15.865Z"
      },
      {
        "duration": 10,
        "start_time": "2023-03-06T17:29:11.061Z"
      },
      {
        "duration": 9,
        "start_time": "2023-03-06T17:29:22.463Z"
      },
      {
        "duration": 10,
        "start_time": "2023-03-06T17:30:21.141Z"
      },
      {
        "duration": 10,
        "start_time": "2023-03-06T17:30:27.727Z"
      },
      {
        "duration": 10,
        "start_time": "2023-03-06T17:34:07.821Z"
      },
      {
        "duration": 9,
        "start_time": "2023-03-06T17:35:25.983Z"
      },
      {
        "duration": 10,
        "start_time": "2023-03-06T17:35:33.133Z"
      },
      {
        "duration": 10,
        "start_time": "2023-03-06T17:37:48.728Z"
      },
      {
        "duration": 4,
        "start_time": "2023-03-06T17:38:17.379Z"
      },
      {
        "duration": 8,
        "start_time": "2023-03-06T17:38:20.922Z"
      },
      {
        "duration": 10,
        "start_time": "2023-03-06T17:38:31.151Z"
      },
      {
        "duration": 12,
        "start_time": "2023-03-06T17:40:07.478Z"
      },
      {
        "duration": 66,
        "start_time": "2023-03-06T17:42:23.783Z"
      },
      {
        "duration": 83,
        "start_time": "2023-03-06T17:43:28.800Z"
      },
      {
        "duration": 4,
        "start_time": "2023-03-06T17:57:15.576Z"
      },
      {
        "duration": 2,
        "start_time": "2023-03-06T17:58:03.962Z"
      },
      {
        "duration": 282,
        "start_time": "2023-03-06T18:00:35.959Z"
      },
      {
        "duration": 2,
        "start_time": "2023-03-06T18:00:41.296Z"
      },
      {
        "duration": 3,
        "start_time": "2023-03-06T18:01:15.977Z"
      },
      {
        "duration": 175,
        "start_time": "2023-03-06T18:01:44.296Z"
      },
      {
        "duration": 3,
        "start_time": "2023-03-06T18:02:47.026Z"
      },
      {
        "duration": 3,
        "start_time": "2023-03-06T18:02:53.529Z"
      },
      {
        "duration": 13,
        "start_time": "2023-03-06T18:02:54.926Z"
      },
      {
        "duration": 301,
        "start_time": "2023-03-06T18:05:02.210Z"
      },
      {
        "duration": 2,
        "start_time": "2023-03-06T18:05:04.307Z"
      },
      {
        "duration": 3,
        "start_time": "2023-03-06T18:05:04.897Z"
      },
      {
        "duration": 3,
        "start_time": "2023-03-06T18:05:05.251Z"
      },
      {
        "duration": 14,
        "start_time": "2023-03-06T18:05:06.015Z"
      },
      {
        "duration": 4,
        "start_time": "2023-03-06T18:05:18.171Z"
      },
      {
        "duration": 16,
        "start_time": "2023-03-06T18:05:40.546Z"
      },
      {
        "duration": 9,
        "start_time": "2023-03-06T18:35:00.416Z"
      },
      {
        "duration": 4,
        "start_time": "2023-03-06T18:35:12.012Z"
      },
      {
        "duration": 3,
        "start_time": "2023-03-06T18:35:20.945Z"
      },
      {
        "duration": 4,
        "start_time": "2023-03-06T18:36:13.514Z"
      },
      {
        "duration": 5,
        "start_time": "2023-03-06T18:36:26.737Z"
      },
      {
        "duration": 10,
        "start_time": "2023-03-06T18:36:45.115Z"
      },
      {
        "duration": 9,
        "start_time": "2023-03-06T18:39:56.014Z"
      },
      {
        "duration": 9,
        "start_time": "2023-03-06T18:40:43.181Z"
      },
      {
        "duration": 9,
        "start_time": "2023-03-06T18:40:52.710Z"
      },
      {
        "duration": 9,
        "start_time": "2023-03-06T18:41:48.084Z"
      },
      {
        "duration": 8,
        "start_time": "2023-03-06T18:42:33.330Z"
      },
      {
        "duration": 10,
        "start_time": "2023-03-06T18:42:47.131Z"
      },
      {
        "duration": 2563,
        "start_time": "2023-03-06T18:45:07.803Z"
      },
      {
        "duration": 1720,
        "start_time": "2023-03-06T18:45:10.369Z"
      },
      {
        "duration": 3060,
        "start_time": "2023-03-06T18:45:12.091Z"
      },
      {
        "duration": 47,
        "start_time": "2023-03-06T18:45:15.153Z"
      },
      {
        "duration": 350,
        "start_time": "2023-03-06T18:45:15.202Z"
      },
      {
        "duration": 353,
        "start_time": "2023-03-06T18:45:15.569Z"
      },
      {
        "duration": 206,
        "start_time": "2023-03-06T18:45:15.923Z"
      },
      {
        "duration": 62,
        "start_time": "2023-03-06T18:45:16.131Z"
      },
      {
        "duration": 115,
        "start_time": "2023-03-06T18:45:16.195Z"
      },
      {
        "duration": 101,
        "start_time": "2023-03-06T18:45:16.311Z"
      },
      {
        "duration": 115,
        "start_time": "2023-03-06T18:45:16.414Z"
      },
      {
        "duration": 126,
        "start_time": "2023-03-06T18:45:16.530Z"
      },
      {
        "duration": 11,
        "start_time": "2023-03-06T18:45:16.665Z"
      },
      {
        "duration": 62,
        "start_time": "2023-03-06T18:45:16.679Z"
      },
      {
        "duration": 31,
        "start_time": "2023-03-06T18:45:16.742Z"
      },
      {
        "duration": 37,
        "start_time": "2023-03-06T18:45:16.775Z"
      },
      {
        "duration": 21,
        "start_time": "2023-03-06T18:45:16.813Z"
      },
      {
        "duration": 3,
        "start_time": "2023-03-06T18:45:16.836Z"
      },
      {
        "duration": 7,
        "start_time": "2023-03-06T18:45:16.860Z"
      },
      {
        "duration": 3,
        "start_time": "2023-03-06T18:45:16.869Z"
      },
      {
        "duration": 6,
        "start_time": "2023-03-06T18:45:16.874Z"
      },
      {
        "duration": 3,
        "start_time": "2023-03-06T18:45:16.881Z"
      },
      {
        "duration": 3084047,
        "start_time": "2023-03-06T18:45:16.885Z"
      },
      {
        "duration": 11,
        "start_time": "2023-03-06T19:36:40.934Z"
      },
      {
        "duration": 10,
        "start_time": "2023-03-06T19:36:40.946Z"
      },
      {
        "duration": 4,
        "start_time": "2023-03-06T19:36:40.957Z"
      },
      {
        "duration": 3,
        "start_time": "2023-03-06T19:36:40.962Z"
      },
      {
        "duration": 3,
        "start_time": "2023-03-06T19:36:40.967Z"
      },
      {
        "duration": 759297,
        "start_time": "2023-03-06T19:36:40.971Z"
      },
      {
        "duration": 11,
        "start_time": "2023-03-06T19:49:20.270Z"
      },
      {
        "duration": 4,
        "start_time": "2023-03-06T19:49:20.282Z"
      },
      {
        "duration": 8,
        "start_time": "2023-03-06T19:49:20.287Z"
      },
      {
        "duration": 3,
        "start_time": "2023-03-06T19:49:20.297Z"
      },
      {
        "duration": 8,
        "start_time": "2023-03-06T19:49:20.306Z"
      },
      {
        "duration": 568783,
        "start_time": "2023-03-06T19:49:20.316Z"
      },
      {
        "duration": 12,
        "start_time": "2023-03-06T19:58:49.101Z"
      },
      {
        "duration": 300,
        "start_time": "2023-03-06T19:58:49.114Z"
      },
      {
        "duration": 3,
        "start_time": "2023-03-06T19:58:49.415Z"
      },
      {
        "duration": 135,
        "start_time": "2023-03-06T19:58:49.420Z"
      },
      {
        "duration": 0,
        "start_time": "2023-03-06T19:58:49.556Z"
      },
      {
        "duration": 791,
        "start_time": "2023-03-06T20:02:35.709Z"
      },
      {
        "duration": 3,
        "start_time": "2023-03-06T20:03:39.910Z"
      },
      {
        "duration": 3,
        "start_time": "2023-03-06T20:04:10.821Z"
      },
      {
        "duration": 3,
        "start_time": "2023-03-06T20:04:28.074Z"
      },
      {
        "duration": 54,
        "start_time": "2023-03-06T20:04:35.209Z"
      },
      {
        "duration": 13,
        "start_time": "2023-03-06T20:05:30.330Z"
      },
      {
        "duration": 772,
        "start_time": "2023-03-06T20:05:57.444Z"
      },
      {
        "duration": 3,
        "start_time": "2023-03-06T20:06:32.308Z"
      },
      {
        "duration": 573640,
        "start_time": "2023-03-06T20:06:38.079Z"
      },
      {
        "duration": 11,
        "start_time": "2023-03-06T20:33:25.161Z"
      },
      {
        "duration": 3,
        "start_time": "2023-03-06T20:34:07.664Z"
      },
      {
        "duration": 2,
        "start_time": "2023-03-06T20:36:12.468Z"
      },
      {
        "duration": 91371,
        "start_time": "2023-03-06T20:36:21.723Z"
      },
      {
        "duration": 90135,
        "start_time": "2023-03-06T20:39:53.915Z"
      },
      {
        "duration": 4,
        "start_time": "2023-03-06T20:45:49.875Z"
      },
      {
        "duration": 10,
        "start_time": "2023-03-06T20:46:46.439Z"
      },
      {
        "duration": 4,
        "start_time": "2023-03-06T20:47:14.656Z"
      },
      {
        "duration": 3,
        "start_time": "2023-03-06T20:49:44.960Z"
      },
      {
        "duration": 3,
        "start_time": "2023-03-06T20:50:31.940Z"
      },
      {
        "duration": 2,
        "start_time": "2023-03-06T20:50:33.217Z"
      },
      {
        "duration": 3,
        "start_time": "2023-03-06T20:50:33.951Z"
      },
      {
        "duration": 13,
        "start_time": "2023-03-06T20:50:55.566Z"
      },
      {
        "duration": 15,
        "start_time": "2023-03-06T20:52:32.455Z"
      },
      {
        "duration": 3,
        "start_time": "2023-03-06T20:52:33.070Z"
      },
      {
        "duration": 3,
        "start_time": "2023-03-06T20:52:33.504Z"
      },
      {
        "duration": 2408,
        "start_time": "2023-03-06T22:21:09.688Z"
      },
      {
        "duration": 1212,
        "start_time": "2023-03-06T22:21:12.098Z"
      },
      {
        "duration": 761,
        "start_time": "2023-03-06T22:21:13.312Z"
      },
      {
        "duration": 48,
        "start_time": "2023-03-06T22:21:14.074Z"
      },
      {
        "duration": 310,
        "start_time": "2023-03-06T22:21:14.124Z"
      },
      {
        "duration": 357,
        "start_time": "2023-03-06T22:21:14.435Z"
      },
      {
        "duration": 205,
        "start_time": "2023-03-06T22:21:14.793Z"
      },
      {
        "duration": 32,
        "start_time": "2023-03-06T22:21:15.000Z"
      },
      {
        "duration": 133,
        "start_time": "2023-03-06T22:21:15.034Z"
      },
      {
        "duration": 129,
        "start_time": "2023-03-06T22:21:15.169Z"
      },
      {
        "duration": 149,
        "start_time": "2023-03-06T22:21:15.300Z"
      },
      {
        "duration": 132,
        "start_time": "2023-03-06T22:21:15.450Z"
      },
      {
        "duration": 11,
        "start_time": "2023-03-06T22:21:15.583Z"
      },
      {
        "duration": 77,
        "start_time": "2023-03-06T22:21:15.597Z"
      },
      {
        "duration": 20,
        "start_time": "2023-03-06T22:21:15.675Z"
      },
      {
        "duration": 58,
        "start_time": "2023-03-06T22:21:15.697Z"
      },
      {
        "duration": 23,
        "start_time": "2023-03-06T22:21:15.757Z"
      },
      {
        "duration": 3,
        "start_time": "2023-03-06T22:21:15.782Z"
      },
      {
        "duration": 3,
        "start_time": "2023-03-06T22:21:15.786Z"
      },
      {
        "duration": 3,
        "start_time": "2023-03-06T22:21:15.790Z"
      },
      {
        "duration": 4,
        "start_time": "2023-03-06T22:21:15.794Z"
      },
      {
        "duration": 3,
        "start_time": "2023-03-06T22:21:15.799Z"
      },
      {
        "duration": 679733,
        "start_time": "2023-03-06T23:11:38.360Z"
      },
      {
        "duration": 11,
        "start_time": "2023-03-06T23:22:58.094Z"
      },
      {
        "duration": 50,
        "start_time": "2023-03-06T23:22:58.107Z"
      },
      {
        "duration": 3,
        "start_time": "2023-03-06T23:22:58.159Z"
      },
      {
        "duration": 4,
        "start_time": "2023-03-06T23:22:58.163Z"
      },
      {
        "duration": 4,
        "start_time": "2023-03-06T23:22:58.169Z"
      },
      {
        "duration": 565727,
        "start_time": "2023-03-06T23:22:58.174Z"
      },
      {
        "duration": 12,
        "start_time": "2023-03-06T23:32:23.902Z"
      },
      {
        "duration": 292,
        "start_time": "2023-03-06T23:32:23.915Z"
      },
      {
        "duration": 2,
        "start_time": "2023-03-06T23:32:24.209Z"
      },
      {
        "duration": 3,
        "start_time": "2023-03-06T23:32:24.213Z"
      },
      {
        "duration": 4,
        "start_time": "2023-03-06T23:32:24.217Z"
      },
      {
        "duration": 2792400,
        "start_time": "2023-03-06T23:32:24.224Z"
      },
      {
        "duration": 11,
        "start_time": "2023-03-07T00:18:56.626Z"
      },
      {
        "duration": 2443,
        "start_time": "2023-03-07T10:15:58.271Z"
      },
      {
        "duration": 1325,
        "start_time": "2023-03-07T10:16:00.716Z"
      },
      {
        "duration": 793,
        "start_time": "2023-03-07T10:16:02.042Z"
      },
      {
        "duration": 51,
        "start_time": "2023-03-07T10:16:02.837Z"
      },
      {
        "duration": 324,
        "start_time": "2023-03-07T10:16:02.890Z"
      },
      {
        "duration": 372,
        "start_time": "2023-03-07T10:16:03.215Z"
      },
      {
        "duration": 199,
        "start_time": "2023-03-07T10:16:03.588Z"
      },
      {
        "duration": 31,
        "start_time": "2023-03-07T10:16:03.789Z"
      },
      {
        "duration": 134,
        "start_time": "2023-03-07T10:16:03.821Z"
      },
      {
        "duration": 133,
        "start_time": "2023-03-07T10:16:03.957Z"
      },
      {
        "duration": 141,
        "start_time": "2023-03-07T10:16:04.092Z"
      },
      {
        "duration": 132,
        "start_time": "2023-03-07T10:16:04.235Z"
      },
      {
        "duration": 11,
        "start_time": "2023-03-07T10:16:04.369Z"
      },
      {
        "duration": 80,
        "start_time": "2023-03-07T10:16:04.384Z"
      },
      {
        "duration": 19,
        "start_time": "2023-03-07T10:16:04.466Z"
      },
      {
        "duration": 43,
        "start_time": "2023-03-07T10:16:04.487Z"
      },
      {
        "duration": 37,
        "start_time": "2023-03-07T10:16:04.531Z"
      },
      {
        "duration": 3,
        "start_time": "2023-03-07T10:16:04.569Z"
      },
      {
        "duration": 6,
        "start_time": "2023-03-07T10:16:04.574Z"
      },
      {
        "duration": 4,
        "start_time": "2023-03-07T10:16:04.582Z"
      },
      {
        "duration": 3,
        "start_time": "2023-03-07T10:16:04.587Z"
      },
      {
        "duration": 7,
        "start_time": "2023-03-07T10:16:04.592Z"
      },
      {
        "duration": 3068630,
        "start_time": "2023-03-07T10:16:04.600Z"
      },
      {
        "duration": 10,
        "start_time": "2023-03-07T11:07:13.232Z"
      },
      {
        "duration": 19,
        "start_time": "2023-03-07T11:07:13.244Z"
      },
      {
        "duration": 4,
        "start_time": "2023-03-07T11:07:13.264Z"
      },
      {
        "duration": 2,
        "start_time": "2023-03-07T11:07:13.270Z"
      },
      {
        "duration": 3,
        "start_time": "2023-03-07T11:07:13.274Z"
      },
      {
        "duration": 2232024,
        "start_time": "2023-03-07T11:07:13.279Z"
      },
      {
        "duration": 68,
        "start_time": "2023-03-07T11:44:25.304Z"
      },
      {
        "duration": 4,
        "start_time": "2023-03-07T11:44:25.373Z"
      },
      {
        "duration": 4,
        "start_time": "2023-03-07T11:44:25.378Z"
      },
      {
        "duration": 3,
        "start_time": "2023-03-07T11:44:25.384Z"
      },
      {
        "duration": 4,
        "start_time": "2023-03-07T11:44:25.388Z"
      },
      {
        "duration": 598877,
        "start_time": "2023-03-07T11:44:25.393Z"
      },
      {
        "duration": 15,
        "start_time": "2023-03-07T11:54:24.273Z"
      },
      {
        "duration": 351,
        "start_time": "2023-03-07T11:54:24.290Z"
      },
      {
        "duration": 2,
        "start_time": "2023-03-07T11:54:24.643Z"
      },
      {
        "duration": 9,
        "start_time": "2023-03-07T11:54:24.647Z"
      },
      {
        "duration": 5,
        "start_time": "2023-03-07T11:54:24.665Z"
      },
      {
        "duration": 2951207,
        "start_time": "2023-03-07T11:54:24.674Z"
      },
      {
        "duration": 11,
        "start_time": "2023-03-07T12:43:35.882Z"
      },
      {
        "duration": 18,
        "start_time": "2023-03-07T12:43:35.895Z"
      },
      {
        "duration": 129,
        "start_time": "2023-03-07T15:39:56.416Z"
      },
      {
        "duration": 8,
        "start_time": "2023-03-07T15:40:30.464Z"
      },
      {
        "duration": 9,
        "start_time": "2023-03-07T15:40:42.779Z"
      },
      {
        "duration": 24,
        "start_time": "2023-03-07T15:41:08.202Z"
      },
      {
        "duration": 9,
        "start_time": "2023-03-07T15:42:03.405Z"
      },
      {
        "duration": 4,
        "start_time": "2023-03-07T15:46:36.950Z"
      },
      {
        "duration": 5,
        "start_time": "2023-03-07T15:46:44.844Z"
      },
      {
        "duration": 9,
        "start_time": "2023-03-07T15:52:24.837Z"
      },
      {
        "duration": 5,
        "start_time": "2023-03-07T15:53:41.936Z"
      },
      {
        "duration": 12,
        "start_time": "2023-03-07T15:54:07.738Z"
      },
      {
        "duration": 12,
        "start_time": "2023-03-07T15:54:37.755Z"
      },
      {
        "duration": 9,
        "start_time": "2023-03-07T15:54:47.639Z"
      },
      {
        "duration": 10,
        "start_time": "2023-03-07T15:55:17.067Z"
      },
      {
        "duration": 275,
        "start_time": "2023-03-07T15:57:11.280Z"
      },
      {
        "duration": 5,
        "start_time": "2023-03-07T16:02:47.329Z"
      },
      {
        "duration": 12,
        "start_time": "2023-03-07T16:03:00.150Z"
      },
      {
        "duration": 12,
        "start_time": "2023-03-07T16:03:03.427Z"
      },
      {
        "duration": 47,
        "start_time": "2023-03-07T16:03:10.627Z"
      },
      {
        "duration": 4,
        "start_time": "2023-03-07T16:03:25.202Z"
      },
      {
        "duration": 8087,
        "start_time": "2023-03-07T16:45:09.697Z"
      },
      {
        "duration": 1773,
        "start_time": "2023-03-07T16:45:17.787Z"
      },
      {
        "duration": 1382,
        "start_time": "2023-03-07T16:45:19.562Z"
      },
      {
        "duration": 55,
        "start_time": "2023-03-07T16:45:20.946Z"
      },
      {
        "duration": 33,
        "start_time": "2023-03-07T16:45:21.010Z"
      },
      {
        "duration": 22,
        "start_time": "2023-03-07T16:45:21.046Z"
      },
      {
        "duration": 25,
        "start_time": "2023-03-07T16:45:21.070Z"
      },
      {
        "duration": 31,
        "start_time": "2023-03-07T16:45:21.097Z"
      },
      {
        "duration": 16,
        "start_time": "2023-03-07T16:45:21.137Z"
      },
      {
        "duration": 4,
        "start_time": "2023-03-07T16:45:21.154Z"
      },
      {
        "duration": 32,
        "start_time": "2023-03-07T16:45:21.160Z"
      },
      {
        "duration": 15,
        "start_time": "2023-03-07T16:45:21.194Z"
      },
      {
        "duration": 30,
        "start_time": "2023-03-07T16:45:21.215Z"
      },
      {
        "duration": 10,
        "start_time": "2023-03-07T16:45:21.249Z"
      },
      {
        "duration": 17,
        "start_time": "2023-03-07T16:45:21.261Z"
      },
      {
        "duration": 9,
        "start_time": "2023-03-07T16:45:21.280Z"
      },
      {
        "duration": 22,
        "start_time": "2023-03-07T16:45:21.291Z"
      },
      {
        "duration": 19,
        "start_time": "2023-03-07T16:45:21.327Z"
      },
      {
        "duration": 10,
        "start_time": "2023-03-07T16:45:21.348Z"
      },
      {
        "duration": 10,
        "start_time": "2023-03-07T16:45:21.360Z"
      },
      {
        "duration": 9,
        "start_time": "2023-03-07T16:45:21.372Z"
      },
      {
        "duration": 11,
        "start_time": "2023-03-07T16:45:21.383Z"
      },
      {
        "duration": 7,
        "start_time": "2023-03-07T16:45:21.396Z"
      },
      {
        "duration": 24052,
        "start_time": "2023-03-07T16:45:21.405Z"
      },
      {
        "duration": 13,
        "start_time": "2023-03-07T16:45:45.459Z"
      },
      {
        "duration": 5,
        "start_time": "2023-03-07T16:45:45.473Z"
      },
      {
        "duration": 7,
        "start_time": "2023-03-07T16:45:45.480Z"
      },
      {
        "duration": 8,
        "start_time": "2023-03-07T16:45:45.488Z"
      },
      {
        "duration": 52,
        "start_time": "2023-03-07T16:45:45.498Z"
      },
      {
        "duration": 480604,
        "start_time": "2023-03-07T16:45:45.552Z"
      },
      {
        "duration": 11,
        "start_time": "2023-03-07T16:53:46.157Z"
      },
      {
        "duration": 0,
        "start_time": "2023-03-07T16:53:46.169Z"
      },
      {
        "duration": 0,
        "start_time": "2023-03-07T16:53:46.170Z"
      },
      {
        "duration": 0,
        "start_time": "2023-03-07T16:53:46.171Z"
      },
      {
        "duration": 0,
        "start_time": "2023-03-07T16:53:46.172Z"
      },
      {
        "duration": 0,
        "start_time": "2023-03-07T16:53:46.173Z"
      },
      {
        "duration": 0,
        "start_time": "2023-03-07T16:53:46.175Z"
      },
      {
        "duration": 0,
        "start_time": "2023-03-07T16:53:46.176Z"
      },
      {
        "duration": 0,
        "start_time": "2023-03-07T16:53:46.177Z"
      },
      {
        "duration": 0,
        "start_time": "2023-03-07T16:53:46.178Z"
      },
      {
        "duration": 0,
        "start_time": "2023-03-07T16:53:46.179Z"
      },
      {
        "duration": 0,
        "start_time": "2023-03-07T16:53:46.180Z"
      },
      {
        "duration": 0,
        "start_time": "2023-03-07T16:53:46.181Z"
      },
      {
        "duration": 0,
        "start_time": "2023-03-07T16:53:46.182Z"
      },
      {
        "duration": 3,
        "start_time": "2023-03-07T16:53:50.765Z"
      },
      {
        "duration": 3,
        "start_time": "2023-03-07T16:54:00.386Z"
      },
      {
        "duration": 3,
        "start_time": "2023-03-07T16:54:03.125Z"
      },
      {
        "duration": 3,
        "start_time": "2023-03-07T16:54:03.457Z"
      },
      {
        "duration": 4557,
        "start_time": "2023-03-07T16:54:04.665Z"
      },
      {
        "duration": 44,
        "start_time": "2023-03-07T16:54:11.894Z"
      },
      {
        "duration": 15,
        "start_time": "2023-03-07T16:54:15.260Z"
      },
      {
        "duration": 9,
        "start_time": "2023-03-07T16:54:19.487Z"
      },
      {
        "duration": 12,
        "start_time": "2023-03-07T16:54:20.920Z"
      },
      {
        "duration": 12,
        "start_time": "2023-03-07T16:54:22.518Z"
      },
      {
        "duration": 88,
        "start_time": "2023-03-07T16:54:23.957Z"
      },
      {
        "duration": 11,
        "start_time": "2023-03-07T16:54:32.928Z"
      },
      {
        "duration": 5,
        "start_time": "2023-03-07T16:54:48.965Z"
      },
      {
        "duration": 50,
        "start_time": "2023-03-07T17:58:14.795Z"
      }
    ],
    "colab": {
      "provenance": [],
      "toc_visible": true
    },
    "kernelspec": {
      "display_name": "Python 3 (ipykernel)",
      "language": "python",
      "name": "python3"
    },
    "language_info": {
      "codemirror_mode": {
        "name": "ipython",
        "version": 3
      },
      "file_extension": ".py",
      "mimetype": "text/x-python",
      "name": "python",
      "nbconvert_exporter": "python",
      "pygments_lexer": "ipython3",
      "version": "3.9.5"
    },
    "toc": {
      "base_numbering": 1,
      "nav_menu": {},
      "number_sections": true,
      "sideBar": true,
      "skip_h1_title": true,
      "title_cell": "Table of Contents",
      "title_sidebar": "Contents",
      "toc_cell": false,
      "toc_position": {
        "height": "calc(100% - 180px)",
        "left": "10px",
        "top": "150px",
        "width": "269.188px"
      },
      "toc_section_display": true,
      "toc_window_display": true
    }
  },
  "nbformat": 4,
  "nbformat_minor": 0
}